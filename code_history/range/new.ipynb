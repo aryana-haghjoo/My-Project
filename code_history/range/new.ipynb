{
 "cells": [
  {
   "cell_type": "code",
   "execution_count": 16,
   "metadata": {},
   "outputs": [],
   "source": [
    "import numpy as np\n",
    "import matplotlib.pyplot as plt\n",
    "import pandas as pd"
   ]
  },
  {
   "cell_type": "code",
   "execution_count": 17,
   "metadata": {},
   "outputs": [],
   "source": [
    "df = pd.read_csv('accepted.gz', sep = \" \", header= None)\n",
    "xdata = df.iloc[:, 0]\n",
    "ydata = df.iloc[:, 1]\n",
    "zdata = df.iloc[:, 2]\n",
    "tdata = df.iloc[:, 3]"
   ]
  },
  {
   "cell_type": "code",
   "execution_count": 29,
   "metadata": {},
   "outputs": [],
   "source": [
    "fig = plt.figure(figsize=plt.figaspect(0.5))\n",
    "\n",
    "ax = fig.add_subplot(2, 2, 1, projection='3d')\n",
    "#ax.set_title('1_2_3')\n",
    "ax.set_xlabel('log_10(pop_rad_yield_0_)')\n",
    "ax.set_ylabel('log_10(pop_rad_yield_1_)')\n",
    "ax.set_zlabel('log_10(pop_rad_yield_2_)')\n",
    "ax.scatter3D(xdata, ydata, zdata, marker= '.')\n",
    "\n",
    "\n",
    "ax = fig.add_subplot(2, 2, 2, projection='3d')\n",
    "#ax.set_title('1_2_4')\n",
    "ax.set_xlabel('log_10(pop_rad_yield_0_)')\n",
    "ax.set_ylabel('log_10(pop_rad_yield_1_)')\n",
    "ax.set_zlabel('clumping factor')\n",
    "ax.scatter3D(xdata, ydata, tdata, marker= '.')\n",
    "\n",
    "ax = fig.add_subplot(2, 2, 3, projection='3d')\n",
    "#ax.set_title('2_3_4')\n",
    "ax.set_xlabel('log_10(pop_rad_yield_1_)')\n",
    "ax.set_ylabel('log_10(pop_rad_yield_2_)')\n",
    "ax.set_zlabel('clumping factor')\n",
    "ax.scatter3D(ydata, zdata, tdata, marker= '.')\n",
    "\n",
    "ax = fig.add_subplot(2, 2, 4, projection='3d')\n",
    "#ax.set_title('1_3_4')\n",
    "ax.set_xlabel('log_10(pop_rad_yield_0_)')\n",
    "ax.set_ylabel('log_10(pop_rad_yield_2_)')\n",
    "ax.set_zlabel('clumping factor')\n",
    "ax.scatter3D(ydata, zdata, tdata, marker= '.')\n",
    "\n",
    "plt.tight_layout()\n",
    "plt.savefig('3d.png')\n",
    "#plt.savefig('/scratch/o/oscarh/aryanah/output_1/parameters.png')\n",
    "plt.show() "
   ]
  },
  {
   "cell_type": "code",
   "execution_count": 18,
   "metadata": {},
   "outputs": [],
   "source": [
    "%matplotlib qt \n",
    "fig1 = plt.figure()\n",
    "ax = plt.axes(projection='3d')\n",
    "ax.set_title('accessible regions of param space')\n",
    "ax.set_xlabel('log_10(pop_rad_yield_0_)')\n",
    "ax.set_ylabel('log_10(pop_rad_yield_1_)')\n",
    "ax.set_zlabel('log_10(pop_rad_yield_2_)')\n",
    "ax.scatter3D(xdata, ydata, zdata, marker= '.')\n",
    "plt.savefig('1_2_3.png')"
   ]
  },
  {
   "cell_type": "code",
   "execution_count": 19,
   "metadata": {},
   "outputs": [],
   "source": [
    "%matplotlib qt \n",
    "fig2 = plt.figure()\n",
    "ax = plt.axes(projection='3d')\n",
    "ax.set_title('accessible regions of param space')\n",
    "ax.set_xlabel('log_10(pop_rad_yield_0_)')\n",
    "ax.set_ylabel('log_10(pop_rad_yield_1_)')\n",
    "ax.set_zlabel('clumping factor')\n",
    "ax.scatter3D(xdata, ydata, tdata, marker= '.')\n",
    "plt.savefig('1_2_4.png')"
   ]
  },
  {
   "cell_type": "code",
   "execution_count": 20,
   "metadata": {},
   "outputs": [],
   "source": [
    "%matplotlib qt \n",
    "fig3 = plt.figure()\n",
    "ax = plt.axes(projection='3d')\n",
    "ax.set_title('accessible regions of param space')\n",
    "ax.set_xlabel('log_10(pop_rad_yield_1_)')\n",
    "ax.set_ylabel('log_10(pop_rad_yield_2_)')\n",
    "ax.set_zlabel('clumping factor')\n",
    "ax.scatter3D(ydata, zdata, tdata, marker= '.')\n",
    "plt.savefig('2_3_4.png')"
   ]
  },
  {
   "cell_type": "code",
   "execution_count": 21,
   "metadata": {},
   "outputs": [],
   "source": [
    "%matplotlib qt \n",
    "fig4 = plt.figure()\n",
    "ax = plt.axes(projection='3d')\n",
    "ax.set_title('accessible regions of param space')\n",
    "ax.set_xlabel('log_10(pop_rad_yield_0_)')\n",
    "ax.set_ylabel('log_10(pop_rad_yield_2_)')\n",
    "ax.set_zlabel('clumping factor')\n",
    "ax.scatter3D(ydata, zdata, tdata, marker= '.')\n",
    "plt.savefig('1_3_4.png')"
   ]
  },
  {
   "cell_type": "code",
   "execution_count": 22,
   "metadata": {},
   "outputs": [],
   "source": [
    "%matplotlib qt \n",
    "plt.scatter(xdata, ydata)\n",
    "plt.title('accessible regions of param space')\n",
    "plt.xlabel('log_10(pop_rad_yield_0_)')\n",
    "plt.ylabel('log_10(pop_rad_yield_1_)')\n",
    "plt.savefig('1_2.png')"
   ]
  },
  {
   "cell_type": "code",
   "execution_count": 23,
   "metadata": {},
   "outputs": [],
   "source": [
    "%matplotlib qt \n",
    "plt.scatter(xdata, zdata)\n",
    "plt.title('accessible regions of param space')\n",
    "plt.xlabel('log_10(pop_rad_yield_0_)')\n",
    "plt.ylabel('log_10(pop_rad_yield_2_)')\n",
    "plt.savefig('1_3.png')"
   ]
  },
  {
   "cell_type": "code",
   "execution_count": 24,
   "metadata": {},
   "outputs": [],
   "source": [
    "%matplotlib qt \n",
    "plt.scatter(xdata, tdata)\n",
    "plt.title('accessible regions of param space')\n",
    "plt.xlabel('log_10(pop_rad_yield_0_)')\n",
    "plt.ylabel('clumping factor')\n",
    "plt.savefig('1_4.png')"
   ]
  },
  {
   "cell_type": "code",
   "execution_count": 25,
   "metadata": {},
   "outputs": [],
   "source": [
    "%matplotlib qt \n",
    "plt.scatter(ydata, zdata)\n",
    "plt.title('accessible regions of param space')\n",
    "plt.xlabel('log_10(pop_rad_yield_1_)')\n",
    "plt.ylabel('log_10(pop_rad_yield_2_)')\n",
    "plt.savefig('2_3.png')"
   ]
  },
  {
   "cell_type": "code",
   "execution_count": 26,
   "metadata": {},
   "outputs": [],
   "source": [
    "%matplotlib qt \n",
    "plt.scatter(ydata, tdata)\n",
    "plt.title('accessible regions of param space')\n",
    "plt.xlabel('log_10(pop_rad_yield_1_)')\n",
    "plt.ylabel('clumping factor')\n",
    "plt.savefig('2_4.png')"
   ]
  },
  {
   "cell_type": "code",
   "execution_count": 27,
   "metadata": {},
   "outputs": [],
   "source": [
    "%matplotlib qt \n",
    "plt.scatter(zdata, tdata)\n",
    "plt.title('accessible regions of param space')\n",
    "plt.xlabel('log_10(pop_rad_yield_2_)')\n",
    "plt.ylabel('clumping factor')\n",
    "plt.savefig('3_4.png')"
   ]
  }
 ],
 "metadata": {
  "kernelspec": {
   "display_name": "Python 3",
   "language": "python",
   "name": "python3"
  },
  "language_info": {
   "codemirror_mode": {
    "name": "ipython",
    "version": 3
   },
   "file_extension": ".py",
   "mimetype": "text/x-python",
   "name": "python",
   "nbconvert_exporter": "python",
   "pygments_lexer": "ipython3",
   "version": "3.9.0"
  },
  "orig_nbformat": 4,
  "vscode": {
   "interpreter": {
    "hash": "81794d4967e6c3204c66dcd87b604927b115b27c00565d3d43f05ba2f3a2cb0d"
   }
  }
 },
 "nbformat": 4,
 "nbformat_minor": 2
}
