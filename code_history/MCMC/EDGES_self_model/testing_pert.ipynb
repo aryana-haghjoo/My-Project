{
 "cells": [
  {
   "cell_type": "code",
   "execution_count": 1,
   "metadata": {},
   "outputs": [],
   "source": [
    "import numpy as np\n",
    "import matplotlib.pyplot as plt"
   ]
  },
  {
   "cell_type": "code",
   "execution_count": 2,
   "metadata": {},
   "outputs": [],
   "source": [
    "def pert(low, p, up): #the PERT distribution function (to be used for random choise of parameters in MCMC)\n",
    "    # low: lower bound\n",
    "    #p: peak\n",
    "    #up: upper bound\n",
    "    \n",
    "    lamb=4\n",
    "    r = up - low\n",
    "    alpha = 1 + lamb * (p-low) / r\n",
    "    beta = 1 + lamb * (up - p) / r\n",
    "    d = np.random.beta(alpha, beta, size=1)\n",
    "    d = d * r\n",
    "    return low + d\n",
    "\n",
    "def pert_array(low, p, up):\n",
    "    #p is an array of peak values for pert distribution\n",
    "    #low: array of lower-bound values for pert distribution\n",
    "    #up: array of upper-bound values for pert distribution\n",
    "    # b is an array of pert outputs\n",
    "    \n",
    "    b = np.empty((len(p)))\n",
    "    for i in range(len(p)):\n",
    "        b[i]= pert(low[i], p[i], up[i])                 \n",
    "    return b"
   ]
  },
  {
   "cell_type": "code",
   "execution_count": 3,
   "metadata": {},
   "outputs": [],
   "source": [
    "#these two bounds should be changed with regard to the reasonable bound for the fitting parameter\n",
    "param_length = 5\n",
    "low = np.zeros((param_length))\n",
    "up = np.ones((param_length))\n",
    "chain = np.zeros((param_length))\n",
    "for i in range(len(chain)):\n",
    "    chain[i]=0.5"
   ]
  },
  {
   "cell_type": "code",
   "execution_count": 4,
   "metadata": {},
   "outputs": [
    {
     "data": {
      "text/plain": [
       "array([0., 0., 0., 0., 0.])"
      ]
     },
     "execution_count": 4,
     "metadata": {},
     "output_type": "execute_result"
    }
   ],
   "source": [
    "low"
   ]
  },
  {
   "cell_type": "code",
   "execution_count": 5,
   "metadata": {},
   "outputs": [],
   "source": [
    "new_param = pert_array(low, chain, up)"
   ]
  },
  {
   "cell_type": "code",
   "execution_count": 7,
   "metadata": {},
   "outputs": [
    {
     "data": {
      "text/plain": [
       "array([0.64158905, 0.50068325, 0.56309948, 0.89203969, 0.51993618])"
      ]
     },
     "execution_count": 7,
     "metadata": {},
     "output_type": "execute_result"
    }
   ],
   "source": [
    "new_param"
   ]
  },
  {
   "cell_type": "code",
   "execution_count": 6,
   "metadata": {},
   "outputs": [
    {
     "data": {
      "image/png": "[encoded data removed]",
      "text/plain": [
       "<Figure size 432x288 with 1 Axes>"
      ]
     },
     "metadata": {
      "needs_background": "light"
     },
     "output_type": "display_data"
    }
   ],
   "source": [
    "plt.hist(new_param, bins=100)\n",
    "plt.show()"
   ]
  },
  {
   "cell_type": "code",
   "execution_count": 1,
   "metadata": {},
   "outputs": [],
   "source": [
    "def dict_to_list(d): # converts dictionary to two lists\n",
    "    #d must be a dictionary containing the value of parameters and their names\n",
    "    key = list(d.keys())\n",
    "    value = list(d.values())\n",
    "    return value, key\n",
    "\n",
    "def list_to_dict(value, key): #converts two lists to a dictionary\n",
    "    #value is a list of parameters' values\n",
    "    #key is a list parameters' names\n",
    "    return dict(zip(key, value))"
   ]
  },
  {
   "cell_type": "code",
   "execution_count": 2,
   "metadata": {},
   "outputs": [],
   "source": [
    "#MCMC inputs (the guess subscipt is related to the original guess)------------------------------------------------------------------\n",
    "start_guess = {'fstar': 0.1, 'fX': 0.2, 'fesc':0.1}\n",
    "param_length = len(start_guess)\n",
    "                 \n",
    "#converting start guess to two lists\n",
    "value_guess, key_guess = dict_to_list(start_guess)"
   ]
  },
  {
   "cell_type": "code",
   "execution_count": 4,
   "metadata": {},
   "outputs": [
    {
     "data": {
      "text/plain": [
       "'fstar'"
      ]
     },
     "execution_count": 4,
     "metadata": {},
     "output_type": "execute_result"
    }
   ],
   "source": [
    "key_guess[0]"
   ]
  }
 ],
 "metadata": {
  "kernelspec": {
   "display_name": "Python 3",
   "language": "python",
   "name": "python3"
  },
  "language_info": {
   "codemirror_mode": {
    "name": "ipython",
    "version": 3
   },
   "file_extension": ".py",
   "mimetype": "text/x-python",
   "name": "python",
   "nbconvert_exporter": "python",
   "pygments_lexer": "ipython3",
   "version": "3.8.5"
  }
 },
 "nbformat": 4,
 "nbformat_minor": 4
}
