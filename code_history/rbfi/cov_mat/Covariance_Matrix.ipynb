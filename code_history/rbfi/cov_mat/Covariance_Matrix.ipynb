{
 "cells": [
  {
   "cell_type": "code",
   "execution_count": 1,
   "metadata": {},
   "outputs": [],
   "source": [
    "import numpy as np\n",
    "import matplotlib.pyplot as plt\n",
    "import pandas as pd\n",
    "from ares_params import ares_params, redshifts"
   ]
  },
  {
   "cell_type": "code",
   "execution_count": 2,
   "metadata": {},
   "outputs": [],
   "source": [
    "low_bound = np.array([3, 37, 3, 0.05])\n",
    "up_bound = np.array([6, 40, 6, 2])\n",
    "\n",
    "#deviation of change for each param\n",
    "#dev = [0.00008, 0.00008, 0.00008, 0.00008]\n",
    "#dev = []\n",
    "dev = 0.01 * (up_bound - low_bound)"
   ]
  },
  {
   "cell_type": "code",
   "execution_count": null,
   "metadata": {},
   "outputs": [],
   "source": [
    "new_param = normal(chain[i-1, :], dev)"
   ]
  },
  {
   "cell_type": "code",
   "execution_count": 3,
   "metadata": {},
   "outputs": [
    {
     "data": {
      "text/plain": [
       "array([0.03  , 0.03  , 0.03  , 0.0195])"
      ]
     },
     "execution_count": 3,
     "metadata": {},
     "output_type": "execute_result"
    }
   ],
   "source": [
    "dev"
   ]
  },
  {
   "cell_type": "markdown",
   "metadata": {},
   "source": [
    "# Functions"
   ]
  },
  {
   "cell_type": "code",
   "execution_count": 4,
   "metadata": {},
   "outputs": [],
   "source": [
    "def normalize(arr): # to normalize the parameter range\n",
    "    #input: an array\n",
    "    #output: normalized array\n",
    "    \n",
    "\top = np.empty(arr.shape)\n",
    "\tfor i in range(arr.shape[1]):\n",
    "\t\tif ares_params[i][3] == \"lin\":\n",
    "\t\t\top[:,i] = (arr[:,i] - ares_params[i][1])/(ares_params[i][2] - ares_params[i][1])\n",
    "\t\telif ares_params[i][3] == \"log\":\n",
    "\t\t\top[:,i] = (np.log10(arr[:,i]/ares_params[i][1]))/(np.log10(ares_params[i][2]/ares_params[i][1])) \n",
    "\t\telse:\n",
    "\t\t\traise ValueError(\"Invalid normalization type in ares_params\")\n",
    "\treturn op\n",
    "\n",
    "def denormalize (arr): # to denormalize the parameter range\n",
    "    #input: an array\n",
    "    #output: denormalized array\n",
    "    \n",
    "\top = np.empty(arr.shape)\n",
    "\tfor i in range(arr.shape[1]):\n",
    "\t\tif ares_params[i][3] == \"lin\":\n",
    "\t\t\top[:,i] = arr[:,i] * (ares_params[i][2] - ares_params[i][1]) + ares_params[i][1]\n",
    "\t\telif ares_params[i][3] == \"log\":\n",
    "\t\t\top[:,i] = 10.0**(arr[:,i] * (np.log10(ares_params[i][2]) - np.log10(ares_params[i][1])) + np.log10(ares_params[i][1]))\n",
    "\t\telse:\n",
    "\t\t\traise ValueError(\"Invalid normalization type in ares_params\")\n",
    "\treturn op"
   ]
  },
  {
   "cell_type": "code",
   "execution_count": 5,
   "metadata": {},
   "outputs": [],
   "source": [
    "def check_normalize(new_param): #to check if the new params exceed the reasonable limits or not (e.g f_Star>1)\n",
    "    x = new_param.shape[0]\n",
    "    y = new_param.shape[1]   \n",
    "    #print( x, y)\n",
    "    check_array=np.zeros((x, y), dtype=bool)\n",
    "    result = True\n",
    "        \n",
    "    for i in range(x):\n",
    "        for j in range(y):\n",
    "            #print(i)\n",
    "            #print(j)\n",
    "            if new_param[i, j] <= 1:\n",
    "            \n",
    "                if new_param[i, j] >= 0:\n",
    "                    check_array[i, j] = True\n",
    "                    \n",
    "                else: \n",
    "                    check_array[i, j] = False\n",
    "            else: \n",
    "                check_array[i, j] = False\n",
    "        \n",
    "            result = result & check_array[i, j] \n",
    "        \n",
    "        \n",
    "    return result"
   ]
  },
  {
   "cell_type": "code",
   "execution_count": 6,
   "metadata": {},
   "outputs": [],
   "source": [
    "def check_limits(new_param, low, up): #to check if the new params exceed the reasonable limits or not (e.g f_Star>1)\n",
    "    x = new_param.shape[0]\n",
    "    y = new_param.shape[1]   \n",
    "    #print( x, y)\n",
    "    check_array=np.zeros((x, y), dtype=bool)\n",
    "    result = True\n",
    "    counter = 0   \n",
    "    for i in range(x):\n",
    "        for j in range(y):\n",
    "            #print(i)\n",
    "            #print(j)\n",
    "            if new_param[i, j] <= up[j]:\n",
    "            \n",
    "                if new_param[i, j] >= low[j]:\n",
    "                    check_array[i, j] = True\n",
    "                    \n",
    "                else: \n",
    "                    check_array[i, j] = False\n",
    "                    counter = counter +1 \n",
    "            else: \n",
    "                check_array[i, j] = False\n",
    "                counter = counter +1 \n",
    "        \n",
    "            result = result & check_array[i, j] \n",
    "        \n",
    "        \n",
    "    return result, counter"
   ]
  },
  {
   "cell_type": "markdown",
   "metadata": {},
   "source": [
    "# Load Data "
   ]
  },
  {
   "cell_type": "code",
   "execution_count": 7,
   "metadata": {},
   "outputs": [],
   "source": [
    "df1 = pd.read_csv(\"mcmc_params.txt\", sep=\" \", header=None)"
   ]
  },
  {
   "cell_type": "code",
   "execution_count": 8,
   "metadata": {},
   "outputs": [
    {
     "data": {
      "text/html": [
       "<div>\n",
       "<style scoped>\n",
       "    .dataframe tbody tr th:only-of-type {\n",
       "        vertical-align: middle;\n",
       "    }\n",
       "\n",
       "    .dataframe tbody tr th {\n",
       "        vertical-align: top;\n",
       "    }\n",
       "\n",
       "    .dataframe thead th {\n",
       "        text-align: right;\n",
       "    }\n",
       "</style>\n",
       "<table border=\"1\" class=\"dataframe\">\n",
       "  <thead>\n",
       "    <tr style=\"text-align: right;\">\n",
       "      <th></th>\n",
       "      <th>0</th>\n",
       "      <th>1</th>\n",
       "      <th>2</th>\n",
       "      <th>3</th>\n",
       "    </tr>\n",
       "  </thead>\n",
       "  <tbody>\n",
       "    <tr>\n",
       "      <th>0</th>\n",
       "      <td>0.333333</td>\n",
       "      <td>0.270346</td>\n",
       "      <td>0.270346</td>\n",
       "      <td>0.487179</td>\n",
       "    </tr>\n",
       "    <tr>\n",
       "      <th>1</th>\n",
       "      <td>0.331996</td>\n",
       "      <td>0.272468</td>\n",
       "      <td>0.275850</td>\n",
       "      <td>0.486696</td>\n",
       "    </tr>\n",
       "    <tr>\n",
       "      <th>2</th>\n",
       "      <td>0.331996</td>\n",
       "      <td>0.272468</td>\n",
       "      <td>0.275850</td>\n",
       "      <td>0.486696</td>\n",
       "    </tr>\n",
       "    <tr>\n",
       "      <th>3</th>\n",
       "      <td>0.334644</td>\n",
       "      <td>0.280457</td>\n",
       "      <td>0.276013</td>\n",
       "      <td>0.486887</td>\n",
       "    </tr>\n",
       "    <tr>\n",
       "      <th>4</th>\n",
       "      <td>0.334644</td>\n",
       "      <td>0.280457</td>\n",
       "      <td>0.276013</td>\n",
       "      <td>0.486887</td>\n",
       "    </tr>\n",
       "    <tr>\n",
       "      <th>...</th>\n",
       "      <td>...</td>\n",
       "      <td>...</td>\n",
       "      <td>...</td>\n",
       "      <td>...</td>\n",
       "    </tr>\n",
       "    <tr>\n",
       "      <th>9999995</th>\n",
       "      <td>0.204886</td>\n",
       "      <td>0.351324</td>\n",
       "      <td>0.353573</td>\n",
       "      <td>0.409395</td>\n",
       "    </tr>\n",
       "    <tr>\n",
       "      <th>9999996</th>\n",
       "      <td>0.204886</td>\n",
       "      <td>0.351324</td>\n",
       "      <td>0.353573</td>\n",
       "      <td>0.409395</td>\n",
       "    </tr>\n",
       "    <tr>\n",
       "      <th>9999997</th>\n",
       "      <td>0.204886</td>\n",
       "      <td>0.351324</td>\n",
       "      <td>0.353573</td>\n",
       "      <td>0.409395</td>\n",
       "    </tr>\n",
       "    <tr>\n",
       "      <th>9999998</th>\n",
       "      <td>0.204886</td>\n",
       "      <td>0.351324</td>\n",
       "      <td>0.353573</td>\n",
       "      <td>0.409395</td>\n",
       "    </tr>\n",
       "    <tr>\n",
       "      <th>9999999</th>\n",
       "      <td>0.204886</td>\n",
       "      <td>0.351324</td>\n",
       "      <td>0.353573</td>\n",
       "      <td>0.409395</td>\n",
       "    </tr>\n",
       "  </tbody>\n",
       "</table>\n",
       "<p>10000000 rows × 4 columns</p>\n",
       "</div>"
      ],
      "text/plain": [
       "                0         1         2         3\n",
       "0        0.333333  0.270346  0.270346  0.487179\n",
       "1        0.331996  0.272468  0.275850  0.486696\n",
       "2        0.331996  0.272468  0.275850  0.486696\n",
       "3        0.334644  0.280457  0.276013  0.486887\n",
       "4        0.334644  0.280457  0.276013  0.486887\n",
       "...           ...       ...       ...       ...\n",
       "9999995  0.204886  0.351324  0.353573  0.409395\n",
       "9999996  0.204886  0.351324  0.353573  0.409395\n",
       "9999997  0.204886  0.351324  0.353573  0.409395\n",
       "9999998  0.204886  0.351324  0.353573  0.409395\n",
       "9999999  0.204886  0.351324  0.353573  0.409395\n",
       "\n",
       "[10000000 rows x 4 columns]"
      ]
     },
     "execution_count": 8,
     "metadata": {},
     "output_type": "execute_result"
    }
   ],
   "source": [
    "df1"
   ]
  },
  {
   "cell_type": "code",
   "execution_count": 9,
   "metadata": {},
   "outputs": [],
   "source": [
    "nstep = 10000000\n",
    "param_length = 4"
   ]
  },
  {
   "cell_type": "code",
   "execution_count": 10,
   "metadata": {},
   "outputs": [
    {
     "name": "stdout",
     "output_type": "stream",
     "text": [
      "(10000000, 4)\n"
     ]
    }
   ],
   "source": [
    "#m =ps.iloc[:,0].tolist()\n",
    "params = np.zeros((nstep, param_length))\n",
    "for i in range(param_length):\n",
    "    params[:, i] = list(df1.iloc[:, i])\n",
    "\n",
    "print(np.shape(params))"
   ]
  },
  {
   "cell_type": "code",
   "execution_count": 11,
   "metadata": {},
   "outputs": [
    {
     "name": "stdout",
     "output_type": "stream",
     "text": [
      "True\n"
     ]
    }
   ],
   "source": [
    "print(check_normalize(params))"
   ]
  },
  {
   "cell_type": "code",
   "execution_count": 12,
   "metadata": {},
   "outputs": [
    {
     "data": {
      "text/plain": [
       "(9499999, 4)"
      ]
     },
     "execution_count": 12,
     "metadata": {},
     "output_type": "execute_result"
    }
   ],
   "source": [
    "params = params[500000:-1, :]\n",
    "np.shape(params)"
   ]
  },
  {
   "cell_type": "code",
   "execution_count": 13,
   "metadata": {},
   "outputs": [],
   "source": [
    "low = [1E3, 1E37, 1E3, 0.05]\n",
    "up = [1E6, 5E40, 5E6, 2]"
   ]
  },
  {
   "cell_type": "code",
   "execution_count": 14,
   "metadata": {},
   "outputs": [],
   "source": [
    "params_denormalized = denormalize(np.asarray(params.T)[np.newaxis]) #normalizing the values -  converting to 2D array\n",
    "params_denormalized = np.reshape(params_denormalized, (params_denormalized.shape[2], params_denormalized.shape[1]))"
   ]
  },
  {
   "cell_type": "code",
   "execution_count": 15,
   "metadata": {},
   "outputs": [
    {
     "data": {
      "text/plain": [
       "(9499999, 4)"
      ]
     },
     "execution_count": 15,
     "metadata": {},
     "output_type": "execute_result"
    }
   ],
   "source": [
    "np.shape(params_denormalized)"
   ]
  },
  {
   "cell_type": "code",
   "execution_count": 16,
   "metadata": {},
   "outputs": [
    {
     "data": {
      "text/plain": [
       "(False, 23749996)"
      ]
     },
     "execution_count": 16,
     "metadata": {},
     "output_type": "execute_result"
    }
   ],
   "source": [
    "check_limits(params_denormalized, low, up)"
   ]
  },
  {
   "cell_type": "code",
   "execution_count": 17,
   "metadata": {},
   "outputs": [
    {
     "data": {
      "text/plain": [
       "array([[4.07247737e+03, 4.07247737e+03, 4.07247737e+03, 4.07247737e+03],\n",
       "       [4.07247737e+03, 4.07247737e+03, 4.07247737e+03, 4.07247737e+03],\n",
       "       [4.07247737e+03, 4.07247737e+03, 4.07247737e+03, 4.07247737e+03],\n",
       "       ...,\n",
       "       [8.48319806e-01, 8.48319806e-01, 8.48319806e-01, 8.48319806e-01],\n",
       "       [8.48319806e-01, 8.48319806e-01, 8.48319806e-01, 8.48319806e-01],\n",
       "       [8.48319806e-01, 8.48319806e-01, 8.48319806e-01, 8.48319806e-01]])"
      ]
     },
     "execution_count": 17,
     "metadata": {},
     "output_type": "execute_result"
    }
   ],
   "source": [
    "params_denormalized"
   ]
  },
  {
   "cell_type": "markdown",
   "metadata": {},
   "source": [
    "# Draw Samples"
   ]
  },
  {
   "cell_type": "code",
   "execution_count": 18,
   "metadata": {},
   "outputs": [],
   "source": [
    "chain = params_denormalized\n",
    "for i in range(chain.shape[1]): # ommiting the mean from the chain\n",
    "    chain[:,i] = chain[:,i] - np.mean(chain[:,i])\n",
    "\n",
    "mycov=(chain.T@chain)/chain.shape[0]"
   ]
  },
  {
   "cell_type": "code",
   "execution_count": 19,
   "metadata": {},
   "outputs": [
    {
     "name": "stdout",
     "output_type": "stream",
     "text": [
      "[[8.76532535e+37 0.00000000e+00 0.00000000e+00 0.00000000e+00]\n",
      " [8.76531415e+37 1.34118687e+35 0.00000000e+00 0.00000000e+00]\n",
      " [8.76530578e+37 1.30712905e+35 1.46157438e+35 0.00000000e+00]\n",
      " [8.76530113e+37 1.29394083e+35 1.41510480e+35 1.48513792e+35]]\n"
     ]
    }
   ],
   "source": [
    "def draw_samples(cov,n):\n",
    "    m = cov.shape[0]\n",
    "    mat = np.random.randn(m,n)\n",
    "    #print(mat)\n",
    "    L = np.linalg.cholesky(cov)\n",
    "    print(L)\n",
    "    #the shape of the output is: number of samples * number of params\n",
    "    return (L@mat).T\n",
    "\n",
    "n = 100\n",
    "#n= 100000\n",
    "#there is a huge bug here! we can not have negative values in our samples but the np.random.randn creats negative values!\n",
    "#That's why we encounter negative velues for params which is definately incorrect!\n",
    "#By mathematical definition, gaussian can give negative results!\n",
    "\n",
    "samples = draw_samples(mycov,n)\n",
    "cov2 = samples.T@samples/n"
   ]
  },
  {
   "cell_type": "code",
   "execution_count": 20,
   "metadata": {},
   "outputs": [],
   "source": [
    "#print(samples)\n",
    "#There is another huge bug here! The returned samples does not respect the resonable range for each param!"
   ]
  },
  {
   "cell_type": "code",
   "execution_count": 21,
   "metadata": {},
   "outputs": [
    {
     "name": "stderr",
     "output_type": "stream",
     "text": [
      "<ipython-input-4-0ca7f9420f91>:10: RuntimeWarning: invalid value encountered in log10\n",
      "  op[:,i] = (np.log10(arr[:,i]/ares_params[i][1]))/(np.log10(ares_params[i][2]/ares_params[i][1]))\n"
     ]
    }
   ],
   "source": [
    "samples_normalized = normalize(np.asarray(samples.T)[np.newaxis]) #normalizing the guess values -  converting to 2D array\n",
    "samples_normalized = np.reshape(samples_normalized, (samples_normalized.shape[2], samples_normalized.shape[1]))"
   ]
  },
  {
   "cell_type": "code",
   "execution_count": 22,
   "metadata": {},
   "outputs": [
    {
     "data": {
      "text/plain": [
       "(100, 4)"
      ]
     },
     "execution_count": 22,
     "metadata": {},
     "output_type": "execute_result"
    }
   ],
   "source": [
    "np.shape(samples_normalized)"
   ]
  },
  {
   "cell_type": "code",
   "execution_count": 23,
   "metadata": {},
   "outputs": [
    {
     "data": {
      "text/plain": [
       "(False, 381)"
      ]
     },
     "execution_count": 23,
     "metadata": {},
     "output_type": "execute_result"
    }
   ],
   "source": [
    "check_limits(samples_normalized, low, up)"
   ]
  },
  {
   "cell_type": "code",
   "execution_count": 24,
   "metadata": {},
   "outputs": [],
   "source": [
    "np.savetxt('samples.txt', samples_normalized)"
   ]
  },
  {
   "cell_type": "code",
   "execution_count": 25,
   "metadata": {},
   "outputs": [
    {
     "name": "stdout",
     "output_type": "stream",
     "text": [
      "[[7.68309284e+75 7.68308303e+75 7.68307569e+75 7.68307162e+75]\n",
      " [7.68308303e+75 7.68309120e+75 7.68308341e+75 7.68307916e+75]\n",
      " [7.68307569e+75 7.68308341e+75 7.68309699e+75 7.68309207e+75]\n",
      " [7.68307162e+75 7.68307916e+75 7.68309207e+75 7.68310922e+75]]\n",
      "[[6.10877297e+75 6.10957984e+75 6.11158847e+75 6.11092507e+75]\n",
      " [6.10957984e+75 6.11040366e+75 6.11241285e+75 6.11175135e+75]\n",
      " [6.11158847e+75 6.11241285e+75 6.11444382e+75 6.11378116e+75]\n",
      " [6.11092507e+75 6.11175135e+75 6.11378116e+75 6.11314381e+75]]\n"
     ]
    }
   ],
   "source": [
    "print(mycov)\n",
    "print(cov2)"
   ]
  },
  {
   "cell_type": "code",
   "execution_count": 26,
   "metadata": {},
   "outputs": [
    {
     "name": "stdout",
     "output_type": "stream",
     "text": [
      "[[0.20490705 0.20480101 0.20453882 0.20462474]\n",
      " [0.20480101 0.20469463 0.20443232 0.20451798]\n",
      " [0.20453882 0.20443232 0.20416938 0.20425512]\n",
      " [0.20462474 0.20451798 0.20425512 0.20433985]]\n"
     ]
    }
   ],
   "source": [
    "diff = mycov - cov2\n",
    "diff_r = (diff/mycov)\n",
    "print(diff_r)"
   ]
  }
 ],
 "metadata": {
  "kernelspec": {
   "display_name": "Python 3",
   "language": "python",
   "name": "python3"
  },
  "language_info": {
   "codemirror_mode": {
    "name": "ipython",
    "version": 3
   },
   "file_extension": ".py",
   "mimetype": "text/x-python",
   "name": "python",
   "nbconvert_exporter": "python",
   "pygments_lexer": "ipython3",
   "version": "3.8.5"
  }
 },
 "nbformat": 4,
 "nbformat_minor": 4
}
