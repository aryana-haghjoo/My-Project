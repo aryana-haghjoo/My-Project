{
 "cells": [
  {
   "cell_type": "code",
   "execution_count": 1,
   "metadata": {},
   "outputs": [],
   "source": [
    "import numpy as np"
   ]
  },
  {
   "cell_type": "code",
   "execution_count": 2,
   "metadata": {},
   "outputs": [],
   "source": [
    "start_guess = {'pop_rad_yield_0_': 4, 'pop_rad_yield_1_': 38, 'pop_rad_yield_2_': 5, 'clumping_factor': 1.7}"
   ]
  },
  {
   "cell_type": "code",
   "execution_count": 3,
   "metadata": {},
   "outputs": [],
   "source": [
    "def dict_to_list(d): # converts dictionary to two lists (key and value)\n",
    "    #d must be a dictionary containing the value of parameters and their names\n",
    "    key = list(d.keys())\n",
    "    value = list(d.values())\n",
    "    return value, key\n",
    "\n",
    "def list_to_dict(value, key): #converts two lists (key and value) to a dictionary\n",
    "    #value is a list of parameters' values\n",
    "    #key is a list parameters' names\n",
    "    return dict(zip(key, value))"
   ]
  },
  {
   "cell_type": "code",
   "execution_count": 4,
   "metadata": {},
   "outputs": [],
   "source": [
    "value_guess, key_guess = dict_to_list(start_guess)\n",
    "value_denormalized = np.array(value_guess, dtype='float64')\n",
    "value_denormalized[0] = 10** (value_guess[0])\n",
    "value_denormalized[1] = 10** (value_guess[1])\n",
    "value_denormalized[2] = 10** (value_guess[2])\n",
    "params_denormalized = list_to_dict(value_denormalized, key_guess)"
   ]
  },
  {
   "cell_type": "code",
   "execution_count": 8,
   "metadata": {},
   "outputs": [
    {
     "data": {
      "text/plain": [
       "dict"
      ]
     },
     "execution_count": 8,
     "metadata": {},
     "output_type": "execute_result"
    }
   ],
   "source": [
    "type(params_denormalized)"
   ]
  }
 ],
 "metadata": {
  "kernelspec": {
   "display_name": "Python 3",
   "language": "python",
   "name": "python3"
  },
  "language_info": {
   "codemirror_mode": {
    "name": "ipython",
    "version": 3
   },
   "file_extension": ".py",
   "mimetype": "text/x-python",
   "name": "python",
   "nbconvert_exporter": "python",
   "pygments_lexer": "ipython3",
   "version": "3.8.5"
  }
 },
 "nbformat": 4,
 "nbformat_minor": 4
}
