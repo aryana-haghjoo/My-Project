{
 "cells": [
  {
   "cell_type": "code",
   "execution_count": 1,
   "metadata": {},
   "outputs": [],
   "source": [
    "import numpy as np\n",
    "import matplotlib.pyplot as plt\n",
    "import pandas as pd\n",
    "from ares_params import ares_params, redshifts"
   ]
  },
  {
   "cell_type": "markdown",
   "metadata": {},
   "source": [
    "# Functions"
   ]
  },
  {
   "cell_type": "code",
   "execution_count": 2,
   "metadata": {},
   "outputs": [],
   "source": [
    "def check_limits(new_param, low, up): #to check if the new params exceed the reasonable limits or not (e.g f_Star>1)\n",
    "    x = new_param.shape[0]\n",
    "    y = new_param.shape[1]   \n",
    "    #print( x, y)\n",
    "    check_array=np.zeros((x, y), dtype=bool)\n",
    "    result = True\n",
    "    counter = 0   \n",
    "    for i in range(x):\n",
    "        for j in range(y):\n",
    "            #print(i)\n",
    "            #print(j)\n",
    "            if new_param[i, j] <= up[j]:\n",
    "            \n",
    "                if new_param[i, j] >= low[j]:\n",
    "                    check_array[i, j] = True\n",
    "                    \n",
    "                else: \n",
    "                    check_array[i, j] = False\n",
    "                    counter = counter +1 \n",
    "            else: \n",
    "                check_array[i, j] = False\n",
    "                counter = counter +1 \n",
    "        \n",
    "            result = result & check_array[i, j] \n",
    "        \n",
    "        \n",
    "    return result, counter"
   ]
  },
  {
   "cell_type": "code",
   "execution_count": 3,
   "metadata": {},
   "outputs": [],
   "source": [
    "low_bound = np.array([1E3, 1E37, 1E3, 0.05])\n",
    "up_bound = np.array([1E6, 1E40, 1E6, 2])"
   ]
  },
  {
   "cell_type": "markdown",
   "metadata": {},
   "source": [
    "# Load Data "
   ]
  },
  {
   "cell_type": "code",
   "execution_count": 4,
   "metadata": {},
   "outputs": [],
   "source": [
    "df1 = pd.read_csv(\"params.txt\", sep=\" \", header=None)"
   ]
  },
  {
   "cell_type": "code",
   "execution_count": 5,
   "metadata": {},
   "outputs": [
    {
     "data": {
      "text/html": [
       "<div>\n",
       "<style scoped>\n",
       "    .dataframe tbody tr th:only-of-type {\n",
       "        vertical-align: middle;\n",
       "    }\n",
       "\n",
       "    .dataframe tbody tr th {\n",
       "        vertical-align: top;\n",
       "    }\n",
       "\n",
       "    .dataframe thead th {\n",
       "        text-align: right;\n",
       "    }\n",
       "</style>\n",
       "<table border=\"1\" class=\"dataframe\">\n",
       "  <thead>\n",
       "    <tr style=\"text-align: right;\">\n",
       "      <th></th>\n",
       "      <th>0</th>\n",
       "      <th>1</th>\n",
       "      <th>2</th>\n",
       "      <th>3</th>\n",
       "    </tr>\n",
       "  </thead>\n",
       "  <tbody>\n",
       "    <tr>\n",
       "      <th>0</th>\n",
       "      <td>NaN</td>\n",
       "      <td>7.251084e+38</td>\n",
       "      <td>116005.890040</td>\n",
       "      <td>1.041975</td>\n",
       "    </tr>\n",
       "    <tr>\n",
       "      <th>1</th>\n",
       "      <td>2521.487296</td>\n",
       "      <td>7.453651e+38</td>\n",
       "      <td>110378.957993</td>\n",
       "      <td>1.059906</td>\n",
       "    </tr>\n",
       "    <tr>\n",
       "      <th>2</th>\n",
       "      <td>2386.519954</td>\n",
       "      <td>7.763874e+38</td>\n",
       "      <td>108893.902706</td>\n",
       "      <td>1.059289</td>\n",
       "    </tr>\n",
       "    <tr>\n",
       "      <th>3</th>\n",
       "      <td>2465.720312</td>\n",
       "      <td>7.004546e+38</td>\n",
       "      <td>107400.536359</td>\n",
       "      <td>1.078604</td>\n",
       "    </tr>\n",
       "    <tr>\n",
       "      <th>4</th>\n",
       "      <td>2539.241831</td>\n",
       "      <td>6.835423e+38</td>\n",
       "      <td>110957.343662</td>\n",
       "      <td>1.040101</td>\n",
       "    </tr>\n",
       "    <tr>\n",
       "      <th>...</th>\n",
       "      <td>...</td>\n",
       "      <td>...</td>\n",
       "      <td>...</td>\n",
       "      <td>...</td>\n",
       "    </tr>\n",
       "    <tr>\n",
       "      <th>748337</th>\n",
       "      <td>7671.084800</td>\n",
       "      <td>9.757379e+37</td>\n",
       "      <td>14308.629832</td>\n",
       "      <td>1.568130</td>\n",
       "    </tr>\n",
       "    <tr>\n",
       "      <th>748338</th>\n",
       "      <td>7400.494464</td>\n",
       "      <td>9.908108e+37</td>\n",
       "      <td>15451.897633</td>\n",
       "      <td>1.589666</td>\n",
       "    </tr>\n",
       "    <tr>\n",
       "      <th>748339</th>\n",
       "      <td>7461.360185</td>\n",
       "      <td>1.065163e+38</td>\n",
       "      <td>16147.751560</td>\n",
       "      <td>1.587723</td>\n",
       "    </tr>\n",
       "    <tr>\n",
       "      <th>748340</th>\n",
       "      <td>6289.749423</td>\n",
       "      <td>1.020338e+38</td>\n",
       "      <td>14911.040987</td>\n",
       "      <td>1.602856</td>\n",
       "    </tr>\n",
       "    <tr>\n",
       "      <th>748341</th>\n",
       "      <td>6842.049726</td>\n",
       "      <td>1.082708e+38</td>\n",
       "      <td>14944.758329</td>\n",
       "      <td>1.577055</td>\n",
       "    </tr>\n",
       "  </tbody>\n",
       "</table>\n",
       "<p>748342 rows × 4 columns</p>\n",
       "</div>"
      ],
      "text/plain": [
       "                  0             1              2         3\n",
       "0               NaN  7.251084e+38  116005.890040  1.041975\n",
       "1       2521.487296  7.453651e+38  110378.957993  1.059906\n",
       "2       2386.519954  7.763874e+38  108893.902706  1.059289\n",
       "3       2465.720312  7.004546e+38  107400.536359  1.078604\n",
       "4       2539.241831  6.835423e+38  110957.343662  1.040101\n",
       "...             ...           ...            ...       ...\n",
       "748337  7671.084800  9.757379e+37   14308.629832  1.568130\n",
       "748338  7400.494464  9.908108e+37   15451.897633  1.589666\n",
       "748339  7461.360185  1.065163e+38   16147.751560  1.587723\n",
       "748340  6289.749423  1.020338e+38   14911.040987  1.602856\n",
       "748341  6842.049726  1.082708e+38   14944.758329  1.577055\n",
       "\n",
       "[748342 rows x 4 columns]"
      ]
     },
     "execution_count": 5,
     "metadata": {},
     "output_type": "execute_result"
    }
   ],
   "source": [
    "df1"
   ]
  },
  {
   "cell_type": "code",
   "execution_count": 6,
   "metadata": {},
   "outputs": [],
   "source": [
    "nstep = 748342\n",
    "param_length = 4\n",
    "key = ['pop_rad_yield_0_', 'pop_rad_yield_1_', 'pop_rad_yield_2_', 'clumping_factor']"
   ]
  },
  {
   "cell_type": "code",
   "execution_count": 7,
   "metadata": {},
   "outputs": [
    {
     "name": "stdout",
     "output_type": "stream",
     "text": [
      "(748342, 4)\n"
     ]
    }
   ],
   "source": [
    "#m =ps.iloc[:,0].tolist()\n",
    "params = np.zeros((nstep, param_length))\n",
    "for i in range(param_length):\n",
    "    params[:, i] = list(df1.iloc[:, i])\n",
    "\n",
    "print(np.shape(params))"
   ]
  },
  {
   "cell_type": "code",
   "execution_count": 8,
   "metadata": {},
   "outputs": [
    {
     "name": "stdout",
     "output_type": "stream",
     "text": [
      "(False, 1)\n"
     ]
    }
   ],
   "source": [
    "print(check_limits(params, low_bound, up_bound))"
   ]
  },
  {
   "cell_type": "markdown",
   "metadata": {},
   "source": [
    "# Remove the Burn-in phase"
   ]
  },
  {
   "cell_type": "code",
   "execution_count": 9,
   "metadata": {},
   "outputs": [
    {
     "name": "stdout",
     "output_type": "stream",
     "text": [
      "(248341, 4)\n"
     ]
    }
   ],
   "source": [
    "params_new = params[200000:-1, :]\n",
    "print(np.shape(params_new))"
   ]
  },
  {
   "cell_type": "code",
   "execution_count": 10,
   "metadata": {},
   "outputs": [
    {
     "data": {
      "image/png": "[encoded data removed]",
      "text/plain": [
       "<Figure size 864x720 with 6 Axes>"
      ]
     },
     "metadata": {
      "needs_background": "light"
     },
     "output_type": "display_data"
    }
   ],
   "source": [
    "fig, ax_list = plt.subplots(3, 2, figsize=(12,10))\n",
    "fig.suptitle('Corner plots of the chain', fontsize=16)\n",
    "\n",
    "ax_list[0, 0].plot(params[:, 0], params[:, 1], linestyle = \"\", marker=\".\")\n",
    "ax_list[0, 0].set_ylabel(repr(key[1]), fontsize=12)\n",
    "ax_list[0, 0].set_xlabel(repr(key[0]), fontsize=12)\n",
    "\n",
    "ax_list[0, 1].plot(params[:, 0], params[:, 2], linestyle = \"\", marker=\".\")\n",
    "ax_list[0, 1].set_ylabel(repr(key[2]), fontsize=12)\n",
    "ax_list[0, 1].set_xlabel(repr(key[0]), fontsize=12)\n",
    "    \n",
    "ax_list[1, 0].plot(params[:, 0], params[:, 3], linestyle = \"\", marker=\".\")\n",
    "ax_list[1, 0].set_ylabel(repr(key[3]), fontsize=12)\n",
    "ax_list[1, 0].set_xlabel(repr(key[0]), fontsize=12)\n",
    "\n",
    "ax_list[1, 1].plot(params[:, 1], params[:, 2], linestyle = \"\", marker=\".\")\n",
    "ax_list[1, 1].set_ylabel(repr(key[2]), fontsize=12)\n",
    "ax_list[1, 1].set_xlabel(repr(key[1]), fontsize=12)\n",
    "\n",
    "ax_list[2, 0].plot(params[:, 1], params[:, 3], linestyle = \"\", marker=\".\")\n",
    "ax_list[2, 0].set_ylabel(repr(key[3]), fontsize=12)\n",
    "ax_list[2, 0].set_xlabel(repr(key[1]), fontsize=12)\n",
    "\n",
    "ax_list[2, 1].plot(params[:, 2], params[:, 3], linestyle = \"\", marker=\".\")\n",
    "ax_list[2, 1].set_ylabel(repr(key[3]), fontsize=12)\n",
    "ax_list[2, 1].set_xlabel(repr(key[2]), fontsize=12)\n",
    "\n",
    "plt.tight_layout()\n",
    "plt.show()"
   ]
  },
  {
   "cell_type": "markdown",
   "metadata": {},
   "source": [
    "# Draw Samples"
   ]
  },
  {
   "cell_type": "code",
   "execution_count": 11,
   "metadata": {},
   "outputs": [],
   "source": [
    "chain = params_new\n",
    "for i in range(chain.shape[1]): # ommiting the mean from the chain\n",
    "    chain[:,i] = chain[:,i] - np.mean(chain[:,i])\n",
    "\n",
    "mycov=(chain.T@chain)/chain.shape[0]"
   ]
  },
  {
   "cell_type": "code",
   "execution_count": 12,
   "metadata": {},
   "outputs": [],
   "source": [
    "def draw_samples(cov,n):\n",
    "    m = cov.shape[0]\n",
    "    mat = np.random.randn(m,n)\n",
    "    #print(mat)\n",
    "    L = np.linalg.cholesky(cov)\n",
    "    #print(L)\n",
    "    #the shape of the output is: number of samples * number of params\n",
    "    return (L@mat).T\n",
    "\n",
    "n = 10000\n",
    "#n= 100000\n",
    "#there is a huge bug here! we can not have negative values in our samples but the np.random.randn creats negative values!\n",
    "#That's why we encounter negative values for params which is definately incorrect!\n",
    "#By mathematical definition, gaussian can give negative results!\n",
    "\n",
    "samples = draw_samples(mycov,n)\n",
    "cov2 = samples.T@samples/n"
   ]
  },
  {
   "cell_type": "code",
   "execution_count": 13,
   "metadata": {},
   "outputs": [],
   "source": [
    "#print(samples)\n",
    "#There is another huge bug here! The returned samples does not respect the resonable range for each param!"
   ]
  },
  {
   "cell_type": "code",
   "execution_count": 14,
   "metadata": {},
   "outputs": [
    {
     "data": {
      "text/plain": [
       "(100, 4)"
      ]
     },
     "execution_count": 14,
     "metadata": {},
     "output_type": "execute_result"
    }
   ],
   "source": [
    "np.shape(samples)"
   ]
  },
  {
   "cell_type": "code",
   "execution_count": 15,
   "metadata": {},
   "outputs": [
    {
     "data": {
      "text/plain": [
       "(False, 188)"
      ]
     },
     "execution_count": 15,
     "metadata": {},
     "output_type": "execute_result"
    }
   ],
   "source": [
    "check_limits(samples, low_bound, up_bound)"
   ]
  },
  {
   "cell_type": "code",
   "execution_count": 16,
   "metadata": {},
   "outputs": [],
   "source": [
    "np.savetxt('samples.txt', samples)"
   ]
  },
  {
   "cell_type": "code",
   "execution_count": 17,
   "metadata": {},
   "outputs": [
    {
     "name": "stdout",
     "output_type": "stream",
     "text": [
      "[[ 3.68347405e+10 -2.05472417e+43 -2.83281705e+09  1.21711339e+04]\n",
      " [-2.05472417e+43  4.98141384e+78  3.09231581e+43 -1.21722590e+38]\n",
      " [-2.83281705e+09  3.09231581e+43  5.61003118e+10 -1.90172091e+04]\n",
      " [ 1.21711339e+04 -1.21722590e+38 -1.90172091e+04  3.22860550e-01]]\n",
      "[[ 2.91145764e+10  1.19646283e+43 -7.89951444e+09  1.81595628e+04]\n",
      " [ 1.19646283e+43  4.26307052e+78  1.53800585e+42 -4.06781210e+36]\n",
      " [-7.89951444e+09  1.53800585e+42  6.31392986e+10 -2.30241761e+04]\n",
      " [ 1.81595628e+04 -4.06781210e+36 -2.30241761e+04  2.69319283e-01]]\n"
     ]
    }
   ],
   "source": [
    "print(mycov)\n",
    "print(cov2)"
   ]
  },
  {
   "cell_type": "code",
   "execution_count": 18,
   "metadata": {},
   "outputs": [
    {
     "name": "stdout",
     "output_type": "stream",
     "text": [
      "[[ 0.20958921  1.58229851 -1.78857204 -0.49201898]\n",
      " [ 1.58229851  0.14420471  0.95026362  0.96658129]\n",
      " [-1.78857204  0.95026362 -0.12547144 -0.21070215]\n",
      " [-0.49201898  0.96658129 -0.21070215  0.16583403]]\n"
     ]
    }
   ],
   "source": [
    "diff = mycov - cov2\n",
    "diff_r = (diff/mycov)\n",
    "print(diff_r)"
   ]
  }
 ],
 "metadata": {
  "kernelspec": {
   "display_name": "Python 3",
   "language": "python",
   "name": "python3"
  },
  "language_info": {
   "codemirror_mode": {
    "name": "ipython",
    "version": 3
   },
   "file_extension": ".py",
   "mimetype": "text/x-python",
   "name": "python",
   "nbconvert_exporter": "python",
   "pygments_lexer": "ipython3",
   "version": "3.8.5"
  }
 },
 "nbformat": 4,
 "nbformat_minor": 4
}
