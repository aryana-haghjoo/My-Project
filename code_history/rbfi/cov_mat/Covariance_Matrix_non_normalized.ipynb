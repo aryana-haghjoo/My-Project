{
 "cells": [
  {
   "cell_type": "code",
   "execution_count": 1,
   "metadata": {},
   "outputs": [],
   "source": [
    "import numpy as np\n",
    "import matplotlib.pyplot as plt\n",
    "import pandas as pd\n",
    "from ares_params import ares_params, redshifts"
   ]
  },
  {
   "cell_type": "markdown",
   "metadata": {},
   "source": [
    "# Functions"
   ]
  },
  {
   "cell_type": "code",
   "execution_count": 34,
   "metadata": {},
   "outputs": [],
   "source": [
    "def check_limits(new_param, low, up): #to check if the new params exceed the reasonable limits or not (e.g f_Star>1)\n",
    "    x = new_param.shape[0]\n",
    "    y = new_param.shape[1]  \n",
    "    summation = np.zeros(x)\n",
    "    check_array=np.zeros((x, y), dtype=bool)\n",
    "    result = True  \n",
    "    for i in range(x):\n",
    "        for j in range(y):\n",
    "            #print(i)\n",
    "            #print(j)\n",
    "            if new_param[i, j] <= up[j]:\n",
    "            \n",
    "                if new_param[i, j] >= low[j]:\n",
    "                    check_array[i, j] = True\n",
    "                    \n",
    "                else: \n",
    "                    check_array[i, j] = False\n",
    "            else: \n",
    "                check_array[i, j] = False\n",
    "        \n",
    "            result = result & check_array[i, j]\n",
    "        summation[i] = sum(check_array[i, :])\n",
    "        \n",
    "    counter = 0    \n",
    "    for i in range(x):\n",
    "        if (summation[i]<4):\n",
    "            counter = counter +1\n",
    "        \n",
    "    return result, counter"
   ]
  },
  {
   "cell_type": "code",
   "execution_count": 3,
   "metadata": {},
   "outputs": [],
   "source": [
    "low_bound = np.array([1E3, 1E37, 1E3, 0.05])\n",
    "up_bound = np.array([1E6, 1E40, 1E6, 2])"
   ]
  },
  {
   "cell_type": "code",
   "execution_count": 19,
   "metadata": {},
   "outputs": [
    {
     "name": "stdout",
     "output_type": "stream",
     "text": [
      "2\n"
     ]
    }
   ],
   "source": [
    "a = [True, False, True]\n",
    "print(sum(a))"
   ]
  },
  {
   "cell_type": "markdown",
   "metadata": {},
   "source": [
    "# Load Data "
   ]
  },
  {
   "cell_type": "code",
   "execution_count": 4,
   "metadata": {},
   "outputs": [],
   "source": [
    "df1 = pd.read_csv(\"params.txt\", sep=\" \", header=None)"
   ]
  },
  {
   "cell_type": "code",
   "execution_count": 5,
   "metadata": {},
   "outputs": [
    {
     "data": {
      "text/html": [
       "<div>\n",
       "<style scoped>\n",
       "    .dataframe tbody tr th:only-of-type {\n",
       "        vertical-align: middle;\n",
       "    }\n",
       "\n",
       "    .dataframe tbody tr th {\n",
       "        vertical-align: top;\n",
       "    }\n",
       "\n",
       "    .dataframe thead th {\n",
       "        text-align: right;\n",
       "    }\n",
       "</style>\n",
       "<table border=\"1\" class=\"dataframe\">\n",
       "  <thead>\n",
       "    <tr style=\"text-align: right;\">\n",
       "      <th></th>\n",
       "      <th>0</th>\n",
       "      <th>1</th>\n",
       "      <th>2</th>\n",
       "      <th>3</th>\n",
       "    </tr>\n",
       "  </thead>\n",
       "  <tbody>\n",
       "    <tr>\n",
       "      <th>0</th>\n",
       "      <td>10000.000000</td>\n",
       "      <td>1.000000e+38</td>\n",
       "      <td>10000.000000</td>\n",
       "      <td>1.000000</td>\n",
       "    </tr>\n",
       "    <tr>\n",
       "      <th>1</th>\n",
       "      <td>11223.152386</td>\n",
       "      <td>1.008011e+38</td>\n",
       "      <td>10248.569034</td>\n",
       "      <td>0.961215</td>\n",
       "    </tr>\n",
       "    <tr>\n",
       "      <th>2</th>\n",
       "      <td>10632.395344</td>\n",
       "      <td>9.996781e+37</td>\n",
       "      <td>11350.633225</td>\n",
       "      <td>0.956876</td>\n",
       "    </tr>\n",
       "    <tr>\n",
       "      <th>3</th>\n",
       "      <td>12047.534258</td>\n",
       "      <td>1.097568e+38</td>\n",
       "      <td>10283.638236</td>\n",
       "      <td>0.931298</td>\n",
       "    </tr>\n",
       "    <tr>\n",
       "      <th>4</th>\n",
       "      <td>11291.919115</td>\n",
       "      <td>1.083585e+38</td>\n",
       "      <td>11136.659290</td>\n",
       "      <td>0.938490</td>\n",
       "    </tr>\n",
       "    <tr>\n",
       "      <th>...</th>\n",
       "      <td>...</td>\n",
       "      <td>...</td>\n",
       "      <td>...</td>\n",
       "      <td>...</td>\n",
       "    </tr>\n",
       "    <tr>\n",
       "      <th>999995</th>\n",
       "      <td>7671.084800</td>\n",
       "      <td>9.757379e+37</td>\n",
       "      <td>14308.629832</td>\n",
       "      <td>1.568130</td>\n",
       "    </tr>\n",
       "    <tr>\n",
       "      <th>999996</th>\n",
       "      <td>7400.494464</td>\n",
       "      <td>9.908108e+37</td>\n",
       "      <td>15451.897633</td>\n",
       "      <td>1.589666</td>\n",
       "    </tr>\n",
       "    <tr>\n",
       "      <th>999997</th>\n",
       "      <td>7461.360185</td>\n",
       "      <td>1.065163e+38</td>\n",
       "      <td>16147.751560</td>\n",
       "      <td>1.587723</td>\n",
       "    </tr>\n",
       "    <tr>\n",
       "      <th>999998</th>\n",
       "      <td>6289.749423</td>\n",
       "      <td>1.020338e+38</td>\n",
       "      <td>14911.040987</td>\n",
       "      <td>1.602856</td>\n",
       "    </tr>\n",
       "    <tr>\n",
       "      <th>999999</th>\n",
       "      <td>6842.049726</td>\n",
       "      <td>1.082708e+38</td>\n",
       "      <td>14944.758329</td>\n",
       "      <td>1.577055</td>\n",
       "    </tr>\n",
       "  </tbody>\n",
       "</table>\n",
       "<p>1000000 rows × 4 columns</p>\n",
       "</div>"
      ],
      "text/plain": [
       "                   0             1             2         3\n",
       "0       10000.000000  1.000000e+38  10000.000000  1.000000\n",
       "1       11223.152386  1.008011e+38  10248.569034  0.961215\n",
       "2       10632.395344  9.996781e+37  11350.633225  0.956876\n",
       "3       12047.534258  1.097568e+38  10283.638236  0.931298\n",
       "4       11291.919115  1.083585e+38  11136.659290  0.938490\n",
       "...              ...           ...           ...       ...\n",
       "999995   7671.084800  9.757379e+37  14308.629832  1.568130\n",
       "999996   7400.494464  9.908108e+37  15451.897633  1.589666\n",
       "999997   7461.360185  1.065163e+38  16147.751560  1.587723\n",
       "999998   6289.749423  1.020338e+38  14911.040987  1.602856\n",
       "999999   6842.049726  1.082708e+38  14944.758329  1.577055\n",
       "\n",
       "[1000000 rows x 4 columns]"
      ]
     },
     "execution_count": 5,
     "metadata": {},
     "output_type": "execute_result"
    }
   ],
   "source": [
    "df1"
   ]
  },
  {
   "cell_type": "code",
   "execution_count": 6,
   "metadata": {},
   "outputs": [],
   "source": [
    "nstep = 1000000\n",
    "param_length = 4\n",
    "key = ['pop_rad_yield_0_', 'pop_rad_yield_1_', 'pop_rad_yield_2_', 'clumping_factor']"
   ]
  },
  {
   "cell_type": "code",
   "execution_count": 7,
   "metadata": {},
   "outputs": [
    {
     "name": "stdout",
     "output_type": "stream",
     "text": [
      "(1000000, 4)\n"
     ]
    }
   ],
   "source": [
    "#m =ps.iloc[:,0].tolist()\n",
    "params = np.zeros((nstep, param_length))\n",
    "for i in range(param_length):\n",
    "    params[:, i] = list(df1.iloc[:, i])\n",
    "\n",
    "print(np.shape(params))"
   ]
  },
  {
   "cell_type": "code",
   "execution_count": 8,
   "metadata": {},
   "outputs": [
    {
     "name": "stdout",
     "output_type": "stream",
     "text": [
      "(True, 0)\n"
     ]
    }
   ],
   "source": [
    "print(check_limits(params, low_bound, up_bound))"
   ]
  },
  {
   "cell_type": "markdown",
   "metadata": {},
   "source": [
    "# Remove the Burn-in phase"
   ]
  },
  {
   "cell_type": "code",
   "execution_count": 9,
   "metadata": {},
   "outputs": [
    {
     "name": "stdout",
     "output_type": "stream",
     "text": [
      "(799999, 4)\n"
     ]
    }
   ],
   "source": [
    "params_new = params[200000:-1, :]\n",
    "print(np.shape(params_new))"
   ]
  },
  {
   "cell_type": "code",
   "execution_count": 10,
   "metadata": {},
   "outputs": [
    {
     "data": {
      "image/png": "[encoded data removed]",
      "text/plain": [
       "<Figure size 864x720 with 6 Axes>"
      ]
     },
     "metadata": {
      "needs_background": "light"
     },
     "output_type": "display_data"
    }
   ],
   "source": [
    "fig, ax_list = plt.subplots(3, 2, figsize=(12,10))\n",
    "fig.suptitle('Corner plots of the chain', fontsize=16)\n",
    "\n",
    "ax_list[0, 0].plot(params_new[:, 0], params_new[:, 1], linestyle = \"\", marker=\".\")\n",
    "ax_list[0, 0].set_ylabel(repr(key[1]), fontsize=12)\n",
    "ax_list[0, 0].set_xlabel(repr(key[0]), fontsize=12)\n",
    "\n",
    "ax_list[0, 1].plot(params_new[:, 0], params_new[:, 2], linestyle = \"\", marker=\".\")\n",
    "ax_list[0, 1].set_ylabel(repr(key[2]), fontsize=12)\n",
    "ax_list[0, 1].set_xlabel(repr(key[0]), fontsize=12)\n",
    "    \n",
    "ax_list[1, 0].plot(params_new[:, 0], params_new[:, 3], linestyle = \"\", marker=\".\")\n",
    "ax_list[1, 0].set_ylabel(repr(key[3]), fontsize=12)\n",
    "ax_list[1, 0].set_xlabel(repr(key[0]), fontsize=12)\n",
    "\n",
    "ax_list[1, 1].plot(params_new[:, 1], params_new[:, 2], linestyle = \"\", marker=\".\")\n",
    "ax_list[1, 1].set_ylabel(repr(key[2]), fontsize=12)\n",
    "ax_list[1, 1].set_xlabel(repr(key[1]), fontsize=12)\n",
    "\n",
    "ax_list[2, 0].plot(params_new[:, 1], params_new[:, 3], linestyle = \"\", marker=\".\")\n",
    "ax_list[2, 0].set_ylabel(repr(key[3]), fontsize=12)\n",
    "ax_list[2, 0].set_xlabel(repr(key[1]), fontsize=12)\n",
    "\n",
    "ax_list[2, 1].plot(params_new[:, 2], params_new[:, 3], linestyle = \"\", marker=\".\")\n",
    "ax_list[2, 1].set_ylabel(repr(key[3]), fontsize=12)\n",
    "ax_list[2, 1].set_xlabel(repr(key[2]), fontsize=12)\n",
    "\n",
    "plt.tight_layout()\n",
    "plt.show()"
   ]
  },
  {
   "cell_type": "markdown",
   "metadata": {},
   "source": [
    "# Draw Samples"
   ]
  },
  {
   "cell_type": "code",
   "execution_count": 11,
   "metadata": {},
   "outputs": [],
   "source": [
    "chain = params_new\n",
    "for i in range(chain.shape[1]): # ommiting the mean from the chain\n",
    "    chain[:,i] = chain[:,i] - np.mean(chain[:,i])\n",
    "\n",
    "mycov=(chain.T@chain)/chain.shape[0]"
   ]
  },
  {
   "cell_type": "code",
   "execution_count": 12,
   "metadata": {},
   "outputs": [],
   "source": [
    "def draw_samples(cov,n):\n",
    "    m = cov.shape[0]\n",
    "    mat = np.random.randn(m,n)\n",
    "    #print(mat)\n",
    "    L = np.linalg.cholesky(cov)\n",
    "    #print(L)\n",
    "    #the shape of the output is: number of samples * number of params\n",
    "    return (L@mat).T\n",
    "\n",
    "n = 10000\n",
    "#n= 100000\n",
    "#there is a huge bug here! we can not have negative values in our samples but the np.random.randn creats negative values!\n",
    "#That's why we encounter negative values for params which is definately incorrect!\n",
    "#By mathematical definition, gaussian can give negative results!\n",
    "\n",
    "samples = draw_samples(mycov,n)\n",
    "cov2 = samples.T@samples/n"
   ]
  },
  {
   "cell_type": "code",
   "execution_count": 13,
   "metadata": {},
   "outputs": [],
   "source": [
    "#print(samples)\n",
    "#There is another huge bug here! The returned samples does not respect the resonable range for each param!"
   ]
  },
  {
   "cell_type": "code",
   "execution_count": 14,
   "metadata": {},
   "outputs": [
    {
     "data": {
      "text/plain": [
       "(10000, 4)"
      ]
     },
     "execution_count": 14,
     "metadata": {},
     "output_type": "execute_result"
    }
   ],
   "source": [
    "np.shape(samples)"
   ]
  },
  {
   "cell_type": "code",
   "execution_count": 35,
   "metadata": {},
   "outputs": [],
   "source": [
    "a, b = check_limits(samples, low_bound, up_bound)"
   ]
  },
  {
   "cell_type": "code",
   "execution_count": 36,
   "metadata": {},
   "outputs": [
    {
     "data": {
      "text/plain": [
       "9425"
      ]
     },
     "execution_count": 36,
     "metadata": {},
     "output_type": "execute_result"
    }
   ],
   "source": [
    "b"
   ]
  },
  {
   "cell_type": "code",
   "execution_count": 16,
   "metadata": {},
   "outputs": [
    {
     "name": "stdout",
     "output_type": "stream",
     "text": [
      "[[ 4.79758321e+10 -1.64729495e+43 -2.68702626e+09  6.41120904e+03]\n",
      " [-1.64729495e+43  4.40179102e+78  1.82570242e+43  3.30727728e+36]\n",
      " [-2.68702626e+09  1.82570242e+43  4.99392318e+10 -3.28993758e+03]\n",
      " [ 6.41120904e+03  3.30727728e+36 -3.28993758e+03  3.08793424e-01]]\n",
      "[[ 4.75196293e+10 -1.51714765e+43 -2.79216945e+09  4.32743065e+03]\n",
      " [-1.51714765e+43  4.42399728e+78  2.71942096e+43  1.19024763e+37]\n",
      " [-2.79216945e+09  2.71942096e+43  4.99540767e+10 -1.79391101e+03]\n",
      " [ 4.32743065e+03  1.19024763e+37 -1.79391101e+03  3.12595021e-01]]\n"
     ]
    }
   ],
   "source": [
    "print(mycov)\n",
    "print(cov2)"
   ]
  },
  {
   "cell_type": "code",
   "execution_count": 17,
   "metadata": {},
   "outputs": [
    {
     "name": "stdout",
     "output_type": "stream",
     "text": [
      "[[ 9.50901175e-03  7.90066756e-02 -3.91299472e-02  3.25021128e-01]\n",
      " [ 7.90066756e-02 -5.04482500e-03 -4.89520379e-01 -2.59887461e+00]\n",
      " [-3.91299472e-02 -4.89520379e-01 -2.97259445e-04  4.54727949e-01]\n",
      " [ 3.25021128e-01 -2.59887461e+00  4.54727949e-01 -1.23111325e-02]]\n"
     ]
    }
   ],
   "source": [
    "diff = mycov - cov2\n",
    "diff_r = (diff/mycov)\n",
    "print(diff_r)"
   ]
  },
  {
   "cell_type": "markdown",
   "metadata": {},
   "source": [
    "# Removing <0 enteries"
   ]
  },
  {
   "cell_type": "code",
   "execution_count": 18,
   "metadata": {},
   "outputs": [],
   "source": [
    "np.savetxt('samples.txt', samples)"
   ]
  }
 ],
 "metadata": {
  "kernelspec": {
   "display_name": "Python 3",
   "language": "python",
   "name": "python3"
  },
  "language_info": {
   "codemirror_mode": {
    "name": "ipython",
    "version": 3
   },
   "file_extension": ".py",
   "mimetype": "text/x-python",
   "name": "python",
   "nbconvert_exporter": "python",
   "pygments_lexer": "ipython3",
   "version": "3.8.5"
  }
 },
 "nbformat": 4,
 "nbformat_minor": 4
}
