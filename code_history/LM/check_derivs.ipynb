{
 "cells": [
  {
   "cell_type": "code",
   "execution_count": 1,
   "metadata": {},
   "outputs": [],
   "source": [
    "import numpy as np\n",
    "import matplotlib.pyplot as plt"
   ]
  },
  {
   "cell_type": "code",
   "execution_count": 2,
   "metadata": {},
   "outputs": [],
   "source": [
    "def gauss(m,x):\n",
    "    #get y=a+b*exp((x-x0)^2/2sig^2)\n",
    "    a=m[0]\n",
    "    b=m[1]\n",
    "    x0=m[2]\n",
    "    sig=m[3]\n",
    "    expvec=np.exp(-0.5*(x-x0)**2/sig**2)\n",
    "    y=a+b*expvec\n",
    "    derivs=np.empty([len(x),len(m)])\n",
    "    derivs[:,0]= 1\n",
    "    derivs[:,1]=expvec\n",
    "    derivs[:,2]=b*(x-x0)*2/(2*sig**2)*expvec\n",
    "    derivs[:,3]=b*(0.5*(x-x0)**2)*2/sig**3*expvec\n",
    "\n",
    "    return y, derivs\n",
    "\n",
    "def sinus(m,x):\n",
    "    #get y= a+ b*sin(c*x)\n",
    "    a = m[0]\n",
    "    b = m[1]\n",
    "    c = m[2]\n",
    "    y = a + b*np.sin(c*x)\n",
    "    derivs=np.empty([len(x),len(m)])\n",
    "    derivs[:, 0] = 1\n",
    "    derivs[:, 1] = np.sin(c*x)\n",
    "    derivs[:, 2] = b * x * np.cos(c*x)\n",
    "    return y, derivs"
   ]
  },
  {
   "cell_type": "code",
   "execution_count": 3,
   "metadata": {},
   "outputs": [],
   "source": [
    "def update_dx(dx, status): #status must be a boolian\n",
    "    if status:\n",
    "        dx = dx *2\n",
    "    else:\n",
    "        dx = dx /2"
   ]
  },
  {
   "cell_type": "code",
   "execution_count": 4,
   "metadata": {},
   "outputs": [],
   "source": [
    "def func2(m, x):\n",
    "    #get y = a +b *(1/(x-x0))\n",
    "    y = m[0] + m[1] *(1/(x-m[2]))\n",
    "    derivs = np.empty([len(x),len(m)])\n",
    "    derivs[:, 0] = 1\n",
    "    derivs[:, 1] = (1/(x-m[2]))\n",
    "    derivs[:, 2] =  m[1] * ((x-m[2])**2)\n",
    "    \n",
    "    return y, derivs"
   ]
  },
  {
   "cell_type": "code",
   "execution_count": 5,
   "metadata": {},
   "outputs": [],
   "source": [
    "def local_dev(m, x, func, d = 10000): \n",
    "    m = np.array(m)\n",
    "    y, derivs_a = func(m , x)\n",
    "    derivs = np.zeros([len(x), len(m)])\n",
    "    dpars = np.zeros(len(m))    \n",
    "    dpars=m/d\n",
    "    for i in range(len(m)):        \n",
    "        pars_plus_1 = np.array(m, copy=True, dtype = 'float64')\n",
    "        pars_plus_1[i] = pars_plus_1[i] + dpars[i]\n",
    "        \n",
    "        pars_plus_2 = np.array(m, copy=True, dtype = 'float64')\n",
    "        pars_plus_2[i] = pars_plus_1[i] + 2* dpars[i]\n",
    "        \n",
    "        pars_minus_1 = np.array(m, copy=True, dtype = 'float64')\n",
    "        pars_minus_1[i] = pars_plus_1[i] - dpars[i]\n",
    "        \n",
    "        pars_minus_2 = np.array(m, copy=True, dtype = 'float64')\n",
    "        pars_minus_2[i] = pars_plus_1[i] - 2* dpars[i]\n",
    "        \n",
    "        #calculating the error\n",
    "        third_deriv = (-0.5*func(pars_minus_2, x)[0] + func(pars_minus_1, x)[0] - func(pars_plus_1, x)[0] + 0.5*func(pars_plus_2, x)[0])/(dpars[i]**3)\n",
    "        error = np.abs(func(m, x)[0] * np.finfo(np.double).eps / dpars[i] + third_deriv*(dpars[i]**2))\n",
    "        \n",
    "        A_plus, a = func(pars_plus_1 , x)\n",
    "        A_minus, b = func(pars_minus_1 , x)\n",
    "        A_m = (A_plus - A_minus)/(2*dpars[i])\n",
    "        derivs[:, i] = A_m      \n",
    "    return y, derivs_a, derivs, error"
   ]
  },
  {
   "cell_type": "code",
   "execution_count": 6,
   "metadata": {},
   "outputs": [],
   "source": [
    "def func_ares (m, z, func, d = 10000): \n",
    "    #I can further change this function to include the best dx - 4*int(1E5) is the best number I found so far\n",
    "    #m is the list of params \n",
    "    #z is the redshift range\n",
    "    #y is the brightness temp\n",
    "    m = np.array(m)\n",
    "    y, derivs_a = func(m , x)\n",
    "    derivs = np.zeros([len(z), len(m)])\n",
    "    dpars = np.zeros(len(m))\n",
    "    dpars = m/d \n",
    "    for i in range(len(m)):        \n",
    "        pars_plus = np.array(m, copy=True, dtype = 'float64')\n",
    "        pars_plus[i] = pars_plus[i] + dpars[i]\n",
    "        \n",
    "        pars_minus = np.array(m, copy=True, dtype = 'float64')\n",
    "        pars_minus[i] = pars_minus[i] - dpars[i]\n",
    "        \n",
    "        A_plus, a = func(pars_plus , x)\n",
    "        A_minus, b = func(pars_minus , x)\n",
    "        A_m = (A_plus - A_minus)/(2*dpars[i])\n",
    "        derivs[:, i] = A_m    \n",
    "    return y, derivs_a, derivs"
   ]
  },
  {
   "cell_type": "code",
   "execution_count": 7,
   "metadata": {},
   "outputs": [],
   "source": [
    "m = [1, 2, 50, 2]\n",
    "#m = [1, 2, 5]\n",
    "x = np.linspace(1, 100, 100)\n",
    "y, derivs_a, derivs = func_ares(m , x, gauss)"
   ]
  },
  {
   "cell_type": "code",
   "execution_count": 8,
   "metadata": {},
   "outputs": [
    {
     "data": {
      "text/plain": [
       "2.9251191071485725e-14"
      ]
     },
     "execution_count": 8,
     "metadata": {},
     "output_type": "execute_result"
    }
   ],
   "source": [
    "np.mean(derivs_a - derivs)"
   ]
  },
  {
   "cell_type": "code",
   "execution_count": 9,
   "metadata": {},
   "outputs": [
    {
     "data": {
      "image/png": "[encoded data removed]",
      "text/plain": [
       "<Figure size 432x288 with 1 Axes>"
      ]
     },
     "metadata": {
      "needs_background": "light"
     },
     "output_type": "display_data"
    }
   ],
   "source": [
    "plt.plot(x, derivs[:, 0], label='Local Derivative')\n",
    "plt.plot(x, derivs_a[:, 0], label = 'Analytical Derivative')\n",
    "plt.legend()\n",
    "plt.show()"
   ]
  }
 ],
 "metadata": {
  "kernelspec": {
   "display_name": "Python 3",
   "language": "python",
   "name": "python3"
  },
  "language_info": {
   "codemirror_mode": {
    "name": "ipython",
    "version": 3
   },
   "file_extension": ".py",
   "mimetype": "text/x-python",
   "name": "python",
   "nbconvert_exporter": "python",
   "pygments_lexer": "ipython3",
   "version": "3.8.5"
  }
 },
 "nbformat": 4,
 "nbformat_minor": 4
}
