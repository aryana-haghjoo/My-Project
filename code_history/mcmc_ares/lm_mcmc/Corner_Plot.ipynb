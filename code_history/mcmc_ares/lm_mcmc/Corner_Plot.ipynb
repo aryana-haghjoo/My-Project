{
 "cells": [
  {
   "cell_type": "code",
   "execution_count": 1,
   "metadata": {},
   "outputs": [],
   "source": [
    "import numpy as np\n",
    "import matplotlib.pyplot as plt\n",
    "import pandas as pd"
   ]
  },
  {
   "cell_type": "code",
   "execution_count": 2,
   "metadata": {},
   "outputs": [],
   "source": [
    "def dict_to_list(d): # converts dictionary to two lists (key and value)\n",
    "    #d must be a dictionary containing the value of parameters and their names\n",
    "    key = list(d.keys())\n",
    "    value = list(d.values())\n",
    "    return value, key\n",
    "start_guess = {'pop_rad_yield_0_': 1E4, 'pop_rad_yield_1_': 1E38, 'pop_rad_yield_2_': 1E4, 'clumping_factor': 1}\n",
    "value_guess, key_guess = dict_to_list(start_guess)\n",
    "nstep =5000\n",
    "param_length = 4"
   ]
  },
  {
   "cell_type": "code",
   "execution_count": 3,
   "metadata": {},
   "outputs": [],
   "source": [
    "#params = params[500000:-1, :]"
   ]
  },
  {
   "cell_type": "code",
   "execution_count": 4,
   "metadata": {},
   "outputs": [],
   "source": [
    "df1 = pd.read_csv(\"params.txt\", sep=\" \", header=None)"
   ]
  },
  {
   "cell_type": "code",
   "execution_count": 5,
   "metadata": {},
   "outputs": [
    {
     "data": {
      "text/html": [
       "<div>\n",
       "<style scoped>\n",
       "    .dataframe tbody tr th:only-of-type {\n",
       "        vertical-align: middle;\n",
       "    }\n",
       "\n",
       "    .dataframe tbody tr th {\n",
       "        vertical-align: top;\n",
       "    }\n",
       "\n",
       "    .dataframe thead th {\n",
       "        text-align: right;\n",
       "    }\n",
       "</style>\n",
       "<table border=\"1\" class=\"dataframe\">\n",
       "  <thead>\n",
       "    <tr style=\"text-align: right;\">\n",
       "      <th></th>\n",
       "      <th>0</th>\n",
       "      <th>1</th>\n",
       "      <th>2</th>\n",
       "      <th>3</th>\n",
       "    </tr>\n",
       "  </thead>\n",
       "  <tbody>\n",
       "    <tr>\n",
       "      <th>0</th>\n",
       "      <td>3.659990</td>\n",
       "      <td>38.239291</td>\n",
       "      <td>4.500398</td>\n",
       "      <td>1.061899</td>\n",
       "    </tr>\n",
       "    <tr>\n",
       "      <th>1</th>\n",
       "      <td>3.444548</td>\n",
       "      <td>38.081503</td>\n",
       "      <td>4.429499</td>\n",
       "      <td>0.841649</td>\n",
       "    </tr>\n",
       "    <tr>\n",
       "      <th>2</th>\n",
       "      <td>3.109558</td>\n",
       "      <td>38.288326</td>\n",
       "      <td>4.635361</td>\n",
       "      <td>1.138427</td>\n",
       "    </tr>\n",
       "    <tr>\n",
       "      <th>3</th>\n",
       "      <td>3.109558</td>\n",
       "      <td>38.288326</td>\n",
       "      <td>4.635361</td>\n",
       "      <td>1.138427</td>\n",
       "    </tr>\n",
       "    <tr>\n",
       "      <th>4</th>\n",
       "      <td>3.188126</td>\n",
       "      <td>38.430687</td>\n",
       "      <td>4.812042</td>\n",
       "      <td>1.163038</td>\n",
       "    </tr>\n",
       "    <tr>\n",
       "      <th>...</th>\n",
       "      <td>...</td>\n",
       "      <td>...</td>\n",
       "      <td>...</td>\n",
       "      <td>...</td>\n",
       "    </tr>\n",
       "    <tr>\n",
       "      <th>4995</th>\n",
       "      <td>3.225754</td>\n",
       "      <td>38.281541</td>\n",
       "      <td>4.665763</td>\n",
       "      <td>0.050954</td>\n",
       "    </tr>\n",
       "    <tr>\n",
       "      <th>4996</th>\n",
       "      <td>3.225754</td>\n",
       "      <td>38.281541</td>\n",
       "      <td>4.665763</td>\n",
       "      <td>0.050954</td>\n",
       "    </tr>\n",
       "    <tr>\n",
       "      <th>4997</th>\n",
       "      <td>3.225754</td>\n",
       "      <td>38.281541</td>\n",
       "      <td>4.665763</td>\n",
       "      <td>0.050954</td>\n",
       "    </tr>\n",
       "    <tr>\n",
       "      <th>4998</th>\n",
       "      <td>3.225754</td>\n",
       "      <td>38.281541</td>\n",
       "      <td>4.665763</td>\n",
       "      <td>0.050954</td>\n",
       "    </tr>\n",
       "    <tr>\n",
       "      <th>4999</th>\n",
       "      <td>3.225754</td>\n",
       "      <td>38.281541</td>\n",
       "      <td>4.665763</td>\n",
       "      <td>0.050954</td>\n",
       "    </tr>\n",
       "  </tbody>\n",
       "</table>\n",
       "<p>5000 rows × 4 columns</p>\n",
       "</div>"
      ],
      "text/plain": [
       "             0          1         2         3\n",
       "0     3.659990  38.239291  4.500398  1.061899\n",
       "1     3.444548  38.081503  4.429499  0.841649\n",
       "2     3.109558  38.288326  4.635361  1.138427\n",
       "3     3.109558  38.288326  4.635361  1.138427\n",
       "4     3.188126  38.430687  4.812042  1.163038\n",
       "...        ...        ...       ...       ...\n",
       "4995  3.225754  38.281541  4.665763  0.050954\n",
       "4996  3.225754  38.281541  4.665763  0.050954\n",
       "4997  3.225754  38.281541  4.665763  0.050954\n",
       "4998  3.225754  38.281541  4.665763  0.050954\n",
       "4999  3.225754  38.281541  4.665763  0.050954\n",
       "\n",
       "[5000 rows x 4 columns]"
      ]
     },
     "execution_count": 5,
     "metadata": {},
     "output_type": "execute_result"
    }
   ],
   "source": [
    "df1"
   ]
  },
  {
   "cell_type": "code",
   "execution_count": 6,
   "metadata": {},
   "outputs": [
    {
     "name": "stdout",
     "output_type": "stream",
     "text": [
      "(5000, 4)\n"
     ]
    }
   ],
   "source": [
    "#m =ps.iloc[:,0].tolist()\n",
    "params = np.zeros((nstep, param_length))\n",
    "for i in range(param_length):\n",
    "    params[:, i] = list(df1.iloc[:, i])\n",
    "\n",
    "print(np.shape(params))"
   ]
  },
  {
   "cell_type": "code",
   "execution_count": 10,
   "metadata": {},
   "outputs": [
    {
     "data": {
      "text/plain": [
       "(5000,)"
      ]
     },
     "execution_count": 10,
     "metadata": {},
     "output_type": "execute_result"
    }
   ],
   "source": [
    "np.shape(params[:, 0])"
   ]
  },
  {
   "cell_type": "code",
   "execution_count": 13,
   "metadata": {},
   "outputs": [
    {
     "data": {
      "text/plain": [
       "<matplotlib.collections.PathCollection at 0x7f63200ed940>"
      ]
     },
     "execution_count": 13,
     "metadata": {},
     "output_type": "execute_result"
    },
    {
     "data": {
      "image/png": "[encoded data removed]",
      "text/plain": [
       "<Figure size 432x288 with 1 Axes>"
      ]
     },
     "metadata": {
      "needs_background": "light"
     },
     "output_type": "display_data"
    }
   ],
   "source": [
    "#plt.plot(params[:, 0], params[:, 1], linestyle = \"\", marker=\".\")\n",
    "#plt.plot(params[:, 0])\n",
    "plt.scatter(params[:, 0], params[:, 1])"
   ]
  },
  {
   "cell_type": "code",
   "execution_count": 7,
   "metadata": {},
   "outputs": [
    {
     "data": {
      "image/png": "[encoded data removed]",
      "text/plain": [
       "<Figure size 864x720 with 6 Axes>"
      ]
     },
     "metadata": {
      "needs_background": "light"
     },
     "output_type": "display_data"
    }
   ],
   "source": [
    "fig, ax_list = plt.subplots(3, 2, figsize=(12,10))\n",
    "fig.suptitle('Corner plots of the chain', fontsize=16)\n",
    "\n",
    "ax_list[0, 0].plot(params[:, 0], params[:, 1], linestyle = \"\", marker=\".\")\n",
    "ax_list[0, 0].set_ylabel(repr(key_guess[1]), fontsize=12)\n",
    "ax_list[0, 0].set_xlabel(repr(key_guess[0]), fontsize=12)\n",
    "\n",
    "ax_list[0, 1].plot(params[:, 0], params[:, 2], linestyle = \"\", marker=\".\")\n",
    "ax_list[0, 1].set_ylabel(repr(key_guess[2]), fontsize=12)\n",
    "ax_list[0, 1].set_xlabel(repr(key_guess[0]), fontsize=12)\n",
    "    \n",
    "ax_list[1, 0].plot(params[:, 0], params[:, 3], linestyle = \"\", marker=\".\")\n",
    "ax_list[1, 0].set_ylabel(repr(key_guess[3]), fontsize=12)\n",
    "ax_list[1, 0].set_xlabel(repr(key_guess[0]), fontsize=12)\n",
    "\n",
    "ax_list[1, 1].plot(params[:, 1], params[:, 2], linestyle = \"\", marker=\".\")\n",
    "ax_list[1, 1].set_ylabel(repr(key_guess[2]), fontsize=12)\n",
    "ax_list[1, 1].set_xlabel(repr(key_guess[1]), fontsize=12)\n",
    "\n",
    "ax_list[2, 0].plot(params[:, 1], params[:, 3], linestyle = \"\", marker=\".\")\n",
    "ax_list[2, 0].set_ylabel(repr(key_guess[3]), fontsize=12)\n",
    "ax_list[2, 0].set_xlabel(repr(key_guess[1]), fontsize=12)\n",
    "\n",
    "ax_list[2, 1].plot(params[:, 2], params[:, 3], linestyle = \"\", marker=\".\")\n",
    "ax_list[2, 1].set_ylabel(repr(key_guess[3]), fontsize=12)\n",
    "ax_list[2, 1].set_xlabel(repr(key_guess[2]), fontsize=12)\n",
    "\n",
    "plt.tight_layout()\n",
    "plt.show()"
   ]
  }
 ],
 "metadata": {
  "kernelspec": {
   "display_name": "Python 3",
   "language": "python",
   "name": "python3"
  },
  "language_info": {
   "codemirror_mode": {
    "name": "ipython",
    "version": 3
   },
   "file_extension": ".py",
   "mimetype": "text/x-python",
   "name": "python",
   "nbconvert_exporter": "python",
   "pygments_lexer": "ipython3",
   "version": "3.8.5"
  }
 },
 "nbformat": 4,
 "nbformat_minor": 4
}
