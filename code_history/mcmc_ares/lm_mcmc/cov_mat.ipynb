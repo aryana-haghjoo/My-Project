{
 "cells": [
  {
   "cell_type": "code",
   "execution_count": 1,
   "metadata": {},
   "outputs": [],
   "source": [
    "import numpy as np"
   ]
  },
  {
   "cell_type": "code",
   "execution_count": 2,
   "metadata": {},
   "outputs": [],
   "source": [
    "def draw_samples(cov,n):\n",
    "    m=cov.shape[0]\n",
    "    mat=np.random.randn(m,n)\n",
    "    L=np.linalg.cholesky(cov)\n",
    "    return (L@mat).T"
   ]
  },
  {
   "cell_type": "code",
   "execution_count": 3,
   "metadata": {},
   "outputs": [],
   "source": [
    "Covariance_Matrix= np.array([[ 3717.19949738,  -688.29980358, -1090.48159568,   207.86757286],\n",
    "       [ -688.29980358,  1717.42015485,  2443.91279796,  -407.57325806],\n",
    "       [-1090.48159568,  2443.91279796,  3489.00532296,  -582.12377218],\n",
    "       [  207.86757286,  -407.57325806,  -582.12377218,    97.44826737]])"
   ]
  },
  {
   "cell_type": "code",
   "execution_count": null,
   "metadata": {},
   "outputs": [],
   "source": [
    "#The values from this covariance matrix does not have the shape of the values that I expect!\n",
    "#Check where does this covariance matrix comes from\n",
    "#check how to affect devations with this\n",
    "#Check this covariance matrix with the one that comes from the chain, they should be close\n",
    "#if not, there is a problem with the one coming from LM (I which I personally think it is!)"
   ]
  },
  {
   "cell_type": "code",
   "execution_count": 4,
   "metadata": {},
   "outputs": [],
   "source": [
    "samples = draw_samples(Covariance_Matrix, 1000)"
   ]
  },
  {
   "cell_type": "code",
   "execution_count": 5,
   "metadata": {},
   "outputs": [
    {
     "data": {
      "text/plain": [
       "(1000, 4)"
      ]
     },
     "execution_count": 5,
     "metadata": {},
     "output_type": "execute_result"
    }
   ],
   "source": [
    "samples.shape"
   ]
  },
  {
   "cell_type": "code",
   "execution_count": 6,
   "metadata": {},
   "outputs": [],
   "source": [
    "np.savetxt('samples.txt', samples)"
   ]
  }
 ],
 "metadata": {
  "kernelspec": {
   "display_name": "Python 3",
   "language": "python",
   "name": "python3"
  },
  "language_info": {
   "codemirror_mode": {
    "name": "ipython",
    "version": 3
   },
   "file_extension": ".py",
   "mimetype": "text/x-python",
   "name": "python",
   "nbconvert_exporter": "python",
   "pygments_lexer": "ipython3",
   "version": "3.8.5"
  }
 },
 "nbformat": 4,
 "nbformat_minor": 4
}
