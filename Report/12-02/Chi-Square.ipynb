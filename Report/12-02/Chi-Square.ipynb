{
 "cells": [
  {
   "cell_type": "code",
   "execution_count": 1,
   "metadata": {},
   "outputs": [],
   "source": [
    "import numpy as np\n",
    "import pandas as pd\n",
    "import matplotlib.pyplot as plt"
   ]
  },
  {
   "cell_type": "code",
   "execution_count": 2,
   "metadata": {},
   "outputs": [],
   "source": [
    "chi = np.array([      0.        , 1281156.40622924, 1281156.18030415,\n",
    "        10000000.        , 1281156.40195788, 1281156.18175819,\n",
    "        10000000.        ,  10000000.        ,  10000000.        ,\n",
    "       1281156.3842796 ])"
   ]
  },
  {
   "cell_type": "code",
   "execution_count": 3,
   "metadata": {},
   "outputs": [],
   "source": [
    "index = np.array([0, 3, 6, 7, 8])\n",
    "chi_new = np.delete(chi, index)"
   ]
  },
  {
   "cell_type": "code",
   "execution_count": 4,
   "metadata": {},
   "outputs": [
    {
     "data": {
      "text/plain": [
       "array([1281156.40622924, 1281156.18030415, 1281156.40195788,\n",
       "       1281156.18175819, 1281156.3842796 ])"
      ]
     },
     "execution_count": 4,
     "metadata": {},
     "output_type": "execute_result"
    }
   ],
   "source": [
    "chi_new"
   ]
  },
  {
   "cell_type": "code",
   "execution_count": 5,
   "metadata": {},
   "outputs": [],
   "source": [
    "samples = pd.read_csv('samples.csv', header= None)"
   ]
  },
  {
   "cell_type": "code",
   "execution_count": 6,
   "metadata": {},
   "outputs": [
    {
     "data": {
      "text/html": [
       "<div>\n",
       "<style scoped>\n",
       "    .dataframe tbody tr th:only-of-type {\n",
       "        vertical-align: middle;\n",
       "    }\n",
       "\n",
       "    .dataframe tbody tr th {\n",
       "        vertical-align: top;\n",
       "    }\n",
       "\n",
       "    .dataframe thead th {\n",
       "        text-align: right;\n",
       "    }\n",
       "</style>\n",
       "<table border=\"1\" class=\"dataframe\">\n",
       "  <thead>\n",
       "    <tr style=\"text-align: right;\">\n",
       "      <th></th>\n",
       "      <th>0</th>\n",
       "      <th>1</th>\n",
       "      <th>2</th>\n",
       "      <th>3</th>\n",
       "    </tr>\n",
       "  </thead>\n",
       "  <tbody>\n",
       "    <tr>\n",
       "      <th>0</th>\n",
       "      <td>-44.372415</td>\n",
       "      <td>-6.549427e-06</td>\n",
       "      <td>34.349455</td>\n",
       "      <td>24.444930</td>\n",
       "    </tr>\n",
       "    <tr>\n",
       "      <th>1</th>\n",
       "      <td>-32.900787</td>\n",
       "      <td>1.423970e-07</td>\n",
       "      <td>-284.739001</td>\n",
       "      <td>-1012.131266</td>\n",
       "    </tr>\n",
       "    <tr>\n",
       "      <th>2</th>\n",
       "      <td>62.040241</td>\n",
       "      <td>-1.655697e-05</td>\n",
       "      <td>-151.934586</td>\n",
       "      <td>-635.505320</td>\n",
       "    </tr>\n",
       "    <tr>\n",
       "      <th>3</th>\n",
       "      <td>-22.494122</td>\n",
       "      <td>2.985589e-06</td>\n",
       "      <td>129.559494</td>\n",
       "      <td>451.567566</td>\n",
       "    </tr>\n",
       "    <tr>\n",
       "      <th>4</th>\n",
       "      <td>-60.221084</td>\n",
       "      <td>-2.317089e-06</td>\n",
       "      <td>-127.145838</td>\n",
       "      <td>-210.364221</td>\n",
       "    </tr>\n",
       "    <tr>\n",
       "      <th>5</th>\n",
       "      <td>45.816337</td>\n",
       "      <td>5.662384e-07</td>\n",
       "      <td>-262.516310</td>\n",
       "      <td>-795.051282</td>\n",
       "    </tr>\n",
       "    <tr>\n",
       "      <th>6</th>\n",
       "      <td>-26.973780</td>\n",
       "      <td>2.865517e-06</td>\n",
       "      <td>329.886029</td>\n",
       "      <td>1020.051874</td>\n",
       "    </tr>\n",
       "    <tr>\n",
       "      <th>7</th>\n",
       "      <td>-39.280390</td>\n",
       "      <td>-2.223543e-06</td>\n",
       "      <td>300.787589</td>\n",
       "      <td>865.436289</td>\n",
       "    </tr>\n",
       "    <tr>\n",
       "      <th>8</th>\n",
       "      <td>-10.386953</td>\n",
       "      <td>3.063561e-08</td>\n",
       "      <td>-6.816953</td>\n",
       "      <td>132.857626</td>\n",
       "    </tr>\n",
       "    <tr>\n",
       "      <th>9</th>\n",
       "      <td>-114.222265</td>\n",
       "      <td>4.373774e-07</td>\n",
       "      <td>-19.453873</td>\n",
       "      <td>-45.439780</td>\n",
       "    </tr>\n",
       "  </tbody>\n",
       "</table>\n",
       "</div>"
      ],
      "text/plain": [
       "            0             1           2            3\n",
       "0  -44.372415 -6.549427e-06   34.349455    24.444930\n",
       "1  -32.900787  1.423970e-07 -284.739001 -1012.131266\n",
       "2   62.040241 -1.655697e-05 -151.934586  -635.505320\n",
       "3  -22.494122  2.985589e-06  129.559494   451.567566\n",
       "4  -60.221084 -2.317089e-06 -127.145838  -210.364221\n",
       "5   45.816337  5.662384e-07 -262.516310  -795.051282\n",
       "6  -26.973780  2.865517e-06  329.886029  1020.051874\n",
       "7  -39.280390 -2.223543e-06  300.787589   865.436289\n",
       "8  -10.386953  3.063561e-08   -6.816953   132.857626\n",
       "9 -114.222265  4.373774e-07  -19.453873   -45.439780"
      ]
     },
     "execution_count": 6,
     "metadata": {},
     "output_type": "execute_result"
    }
   ],
   "source": [
    "samples"
   ]
  },
  {
   "cell_type": "code",
   "execution_count": 7,
   "metadata": {},
   "outputs": [],
   "source": [
    "param_0 = np.array(samples.iloc[:,0])\n",
    "param_1 = np.array(samples.iloc[:,1])\n",
    "param_2 = np.array(samples.iloc[:,2])\n",
    "param_3 = np.array(samples.iloc[:,3])\n",
    "param_0_new = np.delete(param_0, index)\n",
    "param_1_new = np.delete(param_1, index)\n",
    "param_2_new = np.delete(param_2, index)\n",
    "param_3_new = np.delete(param_3, index)"
   ]
  },
  {
   "cell_type": "code",
   "execution_count": 8,
   "metadata": {},
   "outputs": [
    {
     "data": {
      "text/plain": [
       "array([ -32.90078691,   62.04024062,  -60.22108362,   45.81633658,\n",
       "       -114.22226516])"
      ]
     },
     "execution_count": 8,
     "metadata": {},
     "output_type": "execute_result"
    }
   ],
   "source": [
    "param_0_new"
   ]
  },
  {
   "cell_type": "code",
   "execution_count": 12,
   "metadata": {},
   "outputs": [
    {
     "data": {
      "text/plain": [
       "<matplotlib.collections.PathCollection at 0x7fd4e4139640>"
      ]
     },
     "execution_count": 12,
     "metadata": {},
     "output_type": "execute_result"
    },
    {
     "data": {
      "image/png": "[encoded data removed]",
      "text/plain": [
       "<Figure size 432x288 with 1 Axes>"
      ]
     },
     "metadata": {
      "needs_background": "light"
     },
     "output_type": "display_data"
    }
   ],
   "source": [
    "plt.scatter(param_3_new, chi_new)"
   ]
  }
 ],
 "metadata": {
  "kernelspec": {
   "display_name": "Python 3",
   "language": "python",
   "name": "python3"
  },
  "language_info": {
   "codemirror_mode": {
    "name": "ipython",
    "version": 3
   },
   "file_extension": ".py",
   "mimetype": "text/x-python",
   "name": "python",
   "nbconvert_exporter": "python",
   "pygments_lexer": "ipython3",
   "version": "3.8.5"
  }
 },
 "nbformat": 4,
 "nbformat_minor": 4
}
