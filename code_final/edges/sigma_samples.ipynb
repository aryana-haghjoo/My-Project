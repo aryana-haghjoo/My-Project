{
 "cells": [
  {
   "cell_type": "code",
   "execution_count": 1,
   "metadata": {},
   "outputs": [],
   "source": [
    "import numpy as np\n",
    "import matplotlib.pyplot as plt\n",
    "import pandas as pd"
   ]
  },
  {
   "cell_type": "code",
   "execution_count": 2,
   "metadata": {},
   "outputs": [],
   "source": [
    "samples= pd.read_csv('samples.gz', sep = \" \", header= None)\n",
    "samples = samples.values"
   ]
  },
  {
   "cell_type": "code",
   "execution_count": 3,
   "metadata": {},
   "outputs": [],
   "source": [
    "def find_sigma_range(parameters, sigma):\n",
    "    mean = np.mean(parameters, axis=0)\n",
    "    std = np.std(parameters, axis=0)\n",
    "    lower_bound = mean - sigma * std\n",
    "    upper_bound = mean + sigma * std\n",
    "    \n",
    "    within_range = []\n",
    "    for param_set in parameters:\n",
    "        if np.all(param_set >= lower_bound) and np.all(param_set <= upper_bound):\n",
    "            within_range.append(param_set)\n",
    "    \n",
    "    return within_range"
   ]
  },
  {
   "cell_type": "code",
   "execution_count": 4,
   "metadata": {},
   "outputs": [],
   "source": [
    "one_sigma_params = find_sigma_range(samples, sigma=1)\n",
    "two_sigma_params = find_sigma_range(samples, sigma=2)"
   ]
  },
  {
   "cell_type": "code",
   "execution_count": 5,
   "metadata": {},
   "outputs": [],
   "source": [
    "np.savetxt('one_sigma_params_edges.gz' , one_sigma_params)\n",
    "np.savetxt('two_sigma_params_edges.gz' , two_sigma_params)"
   ]
  },
  {
   "cell_type": "code",
   "execution_count": 10,
   "metadata": {},
   "outputs": [
    {
     "data": {
      "text/plain": [
       "3432"
      ]
     },
     "execution_count": 10,
     "metadata": {},
     "output_type": "execute_result"
    }
   ],
   "source": [
    "np.shape(one_sigma_params)[0]"
   ]
  }
 ],
 "metadata": {
  "kernelspec": {
   "display_name": "Python 3",
   "language": "python",
   "name": "python3"
  },
  "language_info": {
   "codemirror_mode": {
    "name": "ipython",
    "version": 3
   },
   "file_extension": ".py",
   "mimetype": "text/x-python",
   "name": "python",
   "nbconvert_exporter": "python",
   "pygments_lexer": "ipython3",
   "version": "3.8.10"
  },
  "orig_nbformat": 4
 },
 "nbformat": 4,
 "nbformat_minor": 2
}
