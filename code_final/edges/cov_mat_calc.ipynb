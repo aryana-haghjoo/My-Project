{
 "cells": [
  {
   "cell_type": "code",
   "execution_count": 1,
   "metadata": {},
   "outputs": [],
   "source": [
    "import matplotlib.pyplot as plt\n",
    "import numpy as np\n",
    "import pandas as pd\n",
    "from scipy.interpolate import CubicSpline\n",
    "import ares\n",
    "from math import ceil"
   ]
  },
  {
   "cell_type": "code",
   "execution_count": 2,
   "metadata": {},
   "outputs": [],
   "source": [
    "#loading the EDGES data (the e subscipt is related to EDGES)\n",
    "data_1 = pd.read_csv('data_1.csv')\n",
    "freq_e = data_1.iloc[:,0] #frequency, MHz\n",
    "\n",
    "#Changing the axis from frequency to redshift\n",
    "v_0 = 1420 #MHz, frequency of 21cm line\n",
    "z_e = (v_0/freq_e)-1 #conversion of frequency to redshift"
   ]
  },
  {
   "cell_type": "code",
   "execution_count": 3,
   "metadata": {},
   "outputs": [],
   "source": [
    "def dict_to_list(d): #converts dictionary to two lists (key and value)\n",
    "    #d must be a dictionary containing the value of parameters and their names\n",
    "    key = list(d.keys())\n",
    "    value = list(d.values())\n",
    "    return value, key\n",
    "\n",
    "def list_to_dict(value, key): #converts two lists (key and value) to a dictionary\n",
    "    #value is a list of parameters' values\n",
    "    #key is a list of parameters' names\n",
    "    return dict(zip(key, value))\n",
    "\n",
    "def call_ares (params, redshifts): \n",
    "    #params should be a dictionary\n",
    "    #value, key = dict_to_list(params)\n",
    "    \n",
    "    #value_denormalized = np.array(value, dtype='float64')\n",
    "    #value_denormalized[0] = 10** (value[0])\n",
    "    #value_denormalized[1] = 10** (value[1])\n",
    "    #value_denormalized[2] = 10** (value[2])\n",
    "    #params_denormalized = list_to_dict(value_denormalized, key)\n",
    "    \n",
    "    #running ares\n",
    "    #sim = ares.simulations.Global21cm(**params_denormalized, verbose=False, progress_bar=False)\n",
    "    sim = ares.simulations.Global21cm(**params, verbose=False, progress_bar=False)\n",
    "    sim.run()\n",
    "    z = sim.history['z'][::-1]\n",
    "    dTb = sim.history['dTb'][::-1]\n",
    "    z = z[z<50]\n",
    "    dTb = dTb[:len(z)]\n",
    "    spline = CubicSpline(z, dTb)\n",
    "    \n",
    "    return spline(redshifts) \n",
    "\n",
    "def ares_deriv (m, z, d = 1E-2): \n",
    "    #I can further change this function to include the best dx - 4*int(1E5) is the best number I found so far\n",
    "    #m is the list of params \n",
    "    #z is the redshift range\n",
    "    #y is the brightness temp\n",
    "    m = np.array(m)\n",
    "    T = call_ares(list_to_dict(m, key), z)\n",
    "    derivs = np.zeros([len(z), len(m)])\n",
    "    dpars = d * m\n",
    "    dpars = np.array(dpars, copy=True, dtype = 'float64')\n",
    "    \n",
    "    for i in range(len(m)):        \n",
    "        pars_plus = np.array(m, copy=True, dtype = 'float64')\n",
    "        pars_plus[i] = pars_plus[i] + dpars[i]\n",
    "        \n",
    "        pars_minus = np.array(m, copy=True, dtype = 'float64')\n",
    "        pars_minus[i] = pars_minus[i] - dpars[i]\n",
    "        \n",
    "        A_plus = call_ares (list_to_dict(pars_plus, key), z)\n",
    "        A_minus = call_ares (list_to_dict(pars_minus, key), z)\n",
    "        A_m = (A_plus - A_minus)/(2*dpars[i])\n",
    "        derivs[:, i] = A_m    \n",
    "    return T, derivs\n",
    "\n",
    "def update_lamda(lamda, success):\n",
    "    if success:\n",
    "        lamda = lamda/1.5\n",
    "        if lamda<0.5:\n",
    "            lamda=0\n",
    "    else:\n",
    "        if lamda==0:\n",
    "            lamda=1\n",
    "        else:\n",
    "            lamda = lamda*1.5**2\n",
    "            #lamda = lamda*2\n",
    "    return lamda\n",
    "\n",
    "def get_matrices(m, fun, x, y, Ninv):\n",
    "    model, derivs = fun(m, x)\n",
    "    r = y-model\n",
    "    lhs = derivs.T@Ninv@derivs\n",
    "    rhs = derivs.T@(Ninv@r)\n",
    "    chisq = r.T@Ninv@r\n",
    "    return chisq, lhs, rhs\n",
    "\n",
    "def linv(mat, lamda):\n",
    "    mat = mat + lamda*np.diag(np.diag(mat))\n",
    "    return np.linalg.pinv(mat)\n",
    "\n",
    "def LM(m, fun, x, y, Ninv, niter=10, chitol= 1): \n",
    "    lamda=0\n",
    "    #m = check_limits_lm(m)\n",
    "    chisq, lhs, rhs = get_matrices(m, fun, x, y, Ninv)\n",
    "    \n",
    "    for i in range(niter):\n",
    "        lhs_inv = linv(lhs, lamda)\n",
    "        dm = lhs_inv@rhs\n",
    "        m_new = m+dm\n",
    "        #print(dm)\n",
    "        #m_new = check_limits_lm(m+dm)\n",
    "        chisq_new, lhs_new, rhs_new = get_matrices(m_new, fun, x, y, Ninv)\n",
    "\n",
    "        #try:\n",
    "         #   chisq_new, lhs_new, rhs_new = get_matrices(m+dm, fun, x, y, Ninv)\n",
    "        #except:\n",
    "            \n",
    "        if chisq_new<chisq:  \n",
    "            if lamda==0:\n",
    "                if (np.abs(chisq-chisq_new)<chitol):\n",
    "                    print('Converged after ', i, ' iterations of LM')\n",
    "                    return m_new\n",
    "            chisq = chisq_new\n",
    "            lhs = lhs_new\n",
    "            rhs = rhs_new\n",
    "            m = m_new\n",
    "            lamda = update_lamda(lamda,True)\n",
    "            \n",
    "        else:\n",
    "            lamda = update_lamda(lamda, False)\n",
    "        #print('on iteration ', i, ' chisq is ', chisq, ' with step ', dm, ' and lamda ', lamda)\n",
    "        print('\\n', 'on iteration ', i, ' chisq is ', chisq, ' and lamda is ', lamda)\n",
    "        #print('step ', dm)\n",
    "        #print('new params ', m_new)\n",
    "                \n",
    "    return m\n",
    "\n",
    "def draw_samples(covariance_matrix, nset):\n",
    "    #normalizing the covariance matrix\n",
    "    D = np.diag(np.diag(covariance_matrix)) #diagonal matrix of covariance matrix\n",
    "    D_sqrt = np.sqrt(D)\n",
    "    D_inv_sqrt = np.linalg.pinv(D_sqrt)\n",
    "    covariance_matrix_normalized = D_inv_sqrt @ covariance_matrix @ D_inv_sqrt #normalized covariance matrix\n",
    "\n",
    "    e,v = np.linalg.eigh(covariance_matrix_normalized)\n",
    "    e[e<0]=0 #make sure we don't have any negative eigenvalues due to roundoff\n",
    "    n = len(e)\n",
    "\n",
    "    #make gaussian random variables\n",
    "    g=np.random.randn(n, nset)\n",
    "\n",
    "    #now scale them by the square root of the eigenvalues\n",
    "    rte=np.sqrt(e)\n",
    "    for i in range(nset):\n",
    "        g[:,i]=g[:,i]*rte\n",
    "\n",
    "    #and rotate back into the original space\n",
    "    samples = (v@g).T\n",
    "    samples_denormalized = samples @ D_sqrt\n",
    "    return samples_denormalized\n",
    "\n",
    "def chisquare (pars, data, Ninv): #returns the chi-square of two 21cm curves - err can be a number/array   \n",
    "    pred = call_ares(list_to_dict(pars, key), z_e)\n",
    "    r = data-pred\n",
    "    chisq = r.T@Ninv@r\n",
    "    return chisq"
   ]
  },
  {
   "cell_type": "code",
   "execution_count": 4,
   "metadata": {},
   "outputs": [],
   "source": [
    "#dict_true = {'pop_rad_yield_0_': 1E4, 'pop_rad_yield_1_': 1E29, 'pop_rad_yield_2_': 1E5, 'clumping_factor': 1.7} \n",
    "dict_true = {'pop_rad_yield_0_': 1E4, 'pop_rad_yield_2_': 1E5, 'clumping_factor': 1.7, 'fX': 0.1} \n",
    "m_true, key = dict_to_list(dict_true)\n",
    "m_true = np.array(m_true, copy=True, dtype = 'float64')\n",
    "y_true = call_ares(list_to_dict(m_true, key), z_e)\n",
    "#m_0 = m_true * (1 +  0.1* np.random.randn(len(m_true)))\n",
    "#m_0 = [10**(3.9), 10**(28.0), 10**(5.2), 1.5]\n",
    "m_0 = [10**(3.9), 10**(5.2), 1.5, 0.3]\n",
    "err = 1E-3\n",
    "Ninv = ((err)**(-2))*np.eye(len(z_e))"
   ]
  },
  {
   "cell_type": "code",
   "execution_count": 5,
   "metadata": {},
   "outputs": [
    {
     "data": {
      "text/plain": [
       "array([1.0e+04, 1.0e+05, 1.7e+00, 1.0e-01])"
      ]
     },
     "execution_count": 5,
     "metadata": {},
     "output_type": "execute_result"
    }
   ],
   "source": [
    "m_true"
   ]
  },
  {
   "cell_type": "code",
   "execution_count": 6,
   "metadata": {},
   "outputs": [
    {
     "name": "stdout",
     "output_type": "stream",
     "text": [
      "123879376900.95654\n"
     ]
    },
    {
     "data": {
      "text/plain": [
       "[<matplotlib.lines.Line2D at 0x7f5745efb9d0>]"
      ]
     },
     "execution_count": 6,
     "metadata": {},
     "output_type": "execute_result"
    },
    {
     "data": {
      "image/png": "[encoded data removed]",
      "text/plain": [
       "<Figure size 640x480 with 1 Axes>"
      ]
     },
     "metadata": {},
     "output_type": "display_data"
    }
   ],
   "source": [
    "print(chisquare(m_0, y_true, Ninv))\n",
    "plt.plot(z_e, y_true, label = 'True')"
   ]
  },
  {
   "cell_type": "code",
   "execution_count": 7,
   "metadata": {},
   "outputs": [],
   "source": [
    "#m_fit = LM (m_0, ares_deriv, z_e, y_true, niter=20, Ninv = Ninv)\n",
    "m_fit= m_true\n",
    "chisq_f, lhs_f, rhs_f = get_matrices(m_0, ares_deriv, z_e, y_true, Ninv)\n",
    "mycov = lhs_f\n",
    "y_fit = call_ares(list_to_dict(m_fit, key), z_e)"
   ]
  },
  {
   "cell_type": "code",
   "execution_count": 8,
   "metadata": {},
   "outputs": [
    {
     "data": {
      "text/plain": [
       "array([8.01369974e-02, 5.49697058e+00, 2.45250466e-04, 8.02433762e-06])"
      ]
     },
     "execution_count": 8,
     "metadata": {},
     "output_type": "execute_result"
    }
   ],
   "source": [
    "#error bars\n",
    "mycovinv= np.linalg.inv(mycov)\n",
    "np.sqrt(np.diag(mycovinv))"
   ]
  },
  {
   "cell_type": "code",
   "execution_count": 9,
   "metadata": {},
   "outputs": [
    {
     "data": {
      "text/plain": [
       "array([[ 6.42193835e-03, -3.35083949e-01, -1.68150631e-05,\n",
       "        -5.32518724e-07],\n",
       "       [-3.35083949e-01,  3.02166856e+01,  1.28123050e-03,\n",
       "         3.09760274e-05],\n",
       "       [-1.68150631e-05,  1.28123050e-03,  6.01477911e-08,\n",
       "         1.74641455e-09],\n",
       "       [-5.32518724e-07,  3.09760274e-05,  1.74641455e-09,\n",
       "         6.43899943e-11]])"
      ]
     },
     "execution_count": 9,
     "metadata": {},
     "output_type": "execute_result"
    }
   ],
   "source": [
    "mycovinv"
   ]
  },
  {
   "cell_type": "code",
   "execution_count": 10,
   "metadata": {},
   "outputs": [
    {
     "data": {
      "text/plain": [
       "array([1.0e+04, 1.0e+05, 1.7e+00, 1.0e-01])"
      ]
     },
     "execution_count": 10,
     "metadata": {},
     "output_type": "execute_result"
    }
   ],
   "source": [
    "m_fit"
   ]
  }
 ],
 "metadata": {
  "kernelspec": {
   "display_name": "Python 3",
   "language": "python",
   "name": "python3"
  },
  "language_info": {
   "codemirror_mode": {
    "name": "ipython",
    "version": 3
   },
   "file_extension": ".py",
   "mimetype": "text/x-python",
   "name": "python",
   "nbconvert_exporter": "python",
   "pygments_lexer": "ipython3",
   "version": "3.8.5"
  },
  "vscode": {
   "interpreter": {
    "hash": "916dbcbb3f70747c44a77c7bcd40155683ae19c65e1c03b4aa3499c5328201f1"
   }
  }
 },
 "nbformat": 4,
 "nbformat_minor": 2
}
